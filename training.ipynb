{
 "cells": [
  {
   "cell_type": "code",
   "execution_count": 8,
   "metadata": {
    "scrolled": true
   },
   "outputs": [
    {
     "name": "stderr",
     "output_type": "stream",
     "text": [
      "b'Skipping line 1437: expected 21 fields, saw 29\\nSkipping line 3880: expected 21 fields, saw 29\\nSkipping line 5741: expected 21 fields, saw 30\\nSkipping line 5759: expected 21 fields, saw 30\\nSkipping line 9816: expected 21 fields, saw 30\\nSkipping line 31819: expected 21 fields, saw 24\\n'\n",
      "b'Skipping line 32862: expected 21 fields, saw 29\\nSkipping line 35793: expected 21 fields, saw 30\\nSkipping line 35794: expected 21 fields, saw 24\\nSkipping line 35795: expected 21 fields, saw 30\\nSkipping line 35796: expected 21 fields, saw 29\\nSkipping line 35858: expected 21 fields, saw 32\\nSkipping line 35859: expected 21 fields, saw 30\\nSkipping line 35860: expected 21 fields, saw 24\\nSkipping line 35861: expected 21 fields, saw 30\\nSkipping line 35862: expected 21 fields, saw 29\\nSkipping line 37564: expected 21 fields, saw 24\\nSkipping line 37568: expected 21 fields, saw 32\\nSkipping line 37569: expected 21 fields, saw 44\\nSkipping line 37570: expected 21 fields, saw 32\\nSkipping line 37571: expected 21 fields, saw 30\\nSkipping line 38431: expected 21 fields, saw 30\\nSkipping line 38983: expected 21 fields, saw 26\\nSkipping line 38985: expected 21 fields, saw 32\\nSkipping line 38986: expected 21 fields, saw 30\\nSkipping line 38991: expected 21 fields, saw 26\\nSkipping line 40904: expected 21 fields, saw 24\\nSkipping line 40905: expected 21 fields, saw 38\\nSkipping line 40948: expected 21 fields, saw 24\\nSkipping line 40949: expected 21 fields, saw 32\\nSkipping line 40999: expected 21 fields, saw 30\\nSkipping line 41000: expected 21 fields, saw 32\\nSkipping line 44870: expected 21 fields, saw 30\\nSkipping line 44874: expected 21 fields, saw 49\\nSkipping line 44875: expected 21 fields, saw 49\\nSkipping line 44876: expected 21 fields, saw 32\\nSkipping line 46022: expected 21 fields, saw 32\\nSkipping line 46023: expected 21 fields, saw 30\\nSkipping line 49207: expected 21 fields, saw 30\\nSkipping line 49208: expected 21 fields, saw 24\\nSkipping line 49209: expected 21 fields, saw 27\\nSkipping line 49210: expected 21 fields, saw 30\\nSkipping line 49214: expected 21 fields, saw 32\\nSkipping line 49215: expected 21 fields, saw 30\\nSkipping line 49219: expected 21 fields, saw 32\\nSkipping line 49220: expected 21 fields, saw 27\\nSkipping line 49224: expected 21 fields, saw 30\\nSkipping line 49300: expected 21 fields, saw 29\\nSkipping line 50126: expected 21 fields, saw 35\\nSkipping line 50129: expected 21 fields, saw 29\\nSkipping line 50133: expected 21 fields, saw 32\\nSkipping line 50134: expected 21 fields, saw 30\\nSkipping line 50138: expected 21 fields, saw 32\\nSkipping line 50139: expected 21 fields, saw 30\\nSkipping line 50143: expected 21 fields, saw 32\\nSkipping line 50144: expected 21 fields, saw 44\\nSkipping line 50145: expected 21 fields, saw 32\\nSkipping line 50146: expected 21 fields, saw 30\\nSkipping line 50150: expected 21 fields, saw 32\\nSkipping line 50151: expected 21 fields, saw 44\\nSkipping line 50152: expected 21 fields, saw 32\\nSkipping line 50153: expected 21 fields, saw 30\\nSkipping line 50154: expected 21 fields, saw 29\\nSkipping line 50156: expected 21 fields, saw 32\\nSkipping line 50159: expected 21 fields, saw 26\\nSkipping line 50161: expected 21 fields, saw 32\\nSkipping line 50162: expected 21 fields, saw 44\\nSkipping line 50163: expected 21 fields, saw 32\\nSkipping line 50164: expected 21 fields, saw 44\\nSkipping line 50165: expected 21 fields, saw 26\\nSkipping line 50384: expected 21 fields, saw 38\\nSkipping line 50385: expected 21 fields, saw 32\\nSkipping line 50386: expected 21 fields, saw 30\\nSkipping line 51054: expected 21 fields, saw 32\\nSkipping line 51055: expected 21 fields, saw 32\\nSkipping line 51317: expected 21 fields, saw 32\\nSkipping line 51318: expected 21 fields, saw 30\\nSkipping line 51536: expected 21 fields, saw 44\\nSkipping line 51537: expected 21 fields, saw 32\\nSkipping line 51538: expected 21 fields, saw 44\\nSkipping line 51539: expected 21 fields, saw 26\\nSkipping line 51542: expected 21 fields, saw 30\\nSkipping line 54056: expected 21 fields, saw 30\\nSkipping line 54083: expected 21 fields, saw 30\\nSkipping line 55153: expected 21 fields, saw 24\\nSkipping line 55154: expected 21 fields, saw 38\\nSkipping line 55197: expected 21 fields, saw 24\\nSkipping line 55198: expected 21 fields, saw 32\\nSkipping line 56187: expected 21 fields, saw 30\\nSkipping line 56191: expected 21 fields, saw 26\\nSkipping line 56193: expected 21 fields, saw 26\\nSkipping line 56195: expected 21 fields, saw 32\\nSkipping line 56196: expected 21 fields, saw 30\\nSkipping line 56275: expected 21 fields, saw 44\\nSkipping line 56276: expected 21 fields, saw 26\\nSkipping line 56496: expected 21 fields, saw 44\\nSkipping line 56497: expected 21 fields, saw 32\\nSkipping line 56498: expected 21 fields, saw 44\\nSkipping line 56499: expected 21 fields, saw 26\\nSkipping line 57037: expected 21 fields, saw 27\\nSkipping line 57038: expected 21 fields, saw 44\\nSkipping line 57039: expected 21 fields, saw 32\\nSkipping line 57040: expected 21 fields, saw 30\\nSkipping line 57044: expected 21 fields, saw 32\\nSkipping line 57045: expected 21 fields, saw 30\\nSkipping line 57049: expected 21 fields, saw 32\\nSkipping line 57050: expected 21 fields, saw 44\\nSkipping line 57051: expected 21 fields, saw 32\\nSkipping line 63977: expected 21 fields, saw 24\\n'\n",
      "b'Skipping line 71857: expected 21 fields, saw 30\\nSkipping line 77158: expected 21 fields, saw 27\\nSkipping line 91555: expected 21 fields, saw 24\\nSkipping line 91556: expected 21 fields, saw 32\\nSkipping line 92955: expected 21 fields, saw 27\\nSkipping line 92956: expected 21 fields, saw 30\\nSkipping line 92967: expected 21 fields, saw 32\\nSkipping line 92968: expected 21 fields, saw 30\\nSkipping line 92969: expected 21 fields, saw 32\\n'\n",
      "b'Skipping line 100475: expected 21 fields, saw 26\\n'\n"
     ]
    }
   ],
   "source": [
    "import pandas as pd\n",
    "import numpy as np\n",
    "from sklearn.model_selection import GridSearchCV, cross_val_score\n",
    "from sklearn.preprocessing import OneHotEncoder, LabelEncoder\n",
    "\n",
    "features = pd.read_csv('all.csv.gz' , sep=';', error_bad_lines=False, compression='gzip', dtype='str')"
   ]
  },
  {
   "cell_type": "code",
   "execution_count": 2,
   "metadata": {
    "scrolled": true
   },
   "outputs": [
    {
     "name": "stdout",
     "output_type": "stream",
     "text": [
      "Index(['suf', 'nextCap', 'next2T', 'word', 'gaz', 'prevCap', 'next2W', 'cap',\n",
      "       'prevT', 'prevW', 'nextT', 'simb', 'nextW', 'ini', 'pref', 'prev2Cap',\n",
      "       'tag', 'prev2W', 'next2Cap', 'prev2T', 'class'],\n",
      "      dtype='object')\n"
     ]
    },
    {
     "data": {
      "text/plain": [
       "(106446, 21)"
      ]
     },
     "execution_count": 2,
     "metadata": {},
     "output_type": "execute_result"
    }
   ],
   "source": [
    "print(features.columns)\n",
    "features.shape"
   ]
  },
  {
   "cell_type": "code",
   "execution_count": 3,
   "metadata": {},
   "outputs": [
    {
     "data": {
      "text/html": [
       "<div>\n",
       "<table border=\"1\" class=\"dataframe\">\n",
       "  <thead>\n",
       "    <tr style=\"text-align: right;\">\n",
       "      <th></th>\n",
       "      <th>suf</th>\n",
       "      <th>nextCap</th>\n",
       "      <th>next2T</th>\n",
       "      <th>word</th>\n",
       "      <th>gaz</th>\n",
       "      <th>prevCap</th>\n",
       "      <th>next2W</th>\n",
       "      <th>cap</th>\n",
       "      <th>prevT</th>\n",
       "      <th>prevW</th>\n",
       "      <th>...</th>\n",
       "      <th>simb</th>\n",
       "      <th>nextW</th>\n",
       "      <th>ini</th>\n",
       "      <th>pref</th>\n",
       "      <th>prev2Cap</th>\n",
       "      <th>tag</th>\n",
       "      <th>prev2W</th>\n",
       "      <th>next2Cap</th>\n",
       "      <th>prev2T</th>\n",
       "      <th>class</th>\n",
       "    </tr>\n",
       "  </thead>\n",
       "  <tbody>\n",
       "    <tr>\n",
       "      <th>41613</th>\n",
       "      <td>null</td>\n",
       "      <td>min</td>\n",
       "      <td>prop</td>\n",
       "      <td>2000</td>\n",
       "      <td>null</td>\n",
       "      <td>min</td>\n",
       "      <td>lopes</td>\n",
       "      <td>min</td>\n",
       "      <td>punc</td>\n",
       "      <td>,</td>\n",
       "      <td>...</td>\n",
       "      <td>num</td>\n",
       "      <td>[pv]</td>\n",
       "      <td>min</td>\n",
       "      <td>null</td>\n",
       "      <td>maxmin</td>\n",
       "      <td>num</td>\n",
       "      <td>romão</td>\n",
       "      <td>maxmin</td>\n",
       "      <td>prop</td>\n",
       "      <td>None</td>\n",
       "    </tr>\n",
       "    <tr>\n",
       "      <th>59026</th>\n",
       "      <td>null</td>\n",
       "      <td>min</td>\n",
       "      <td>prp</td>\n",
       "      <td>descoberta</td>\n",
       "      <td>null</td>\n",
       "      <td>min</td>\n",
       "      <td>por</td>\n",
       "      <td>min</td>\n",
       "      <td>art</td>\n",
       "      <td>a</td>\n",
       "      <td>...</td>\n",
       "      <td>alfa</td>\n",
       "      <td>,</td>\n",
       "      <td>min</td>\n",
       "      <td>null</td>\n",
       "      <td>min</td>\n",
       "      <td>n</td>\n",
       "      <td>com</td>\n",
       "      <td>min</td>\n",
       "      <td>prp</td>\n",
       "      <td>None</td>\n",
       "    </tr>\n",
       "    <tr>\n",
       "      <th>16028</th>\n",
       "      <td>null</td>\n",
       "      <td>min</td>\n",
       "      <td>v-fin</td>\n",
       "      <td>1998</td>\n",
       "      <td>null</td>\n",
       "      <td>min</td>\n",
       "      <td>chemale</td>\n",
       "      <td>min</td>\n",
       "      <td>punc</td>\n",
       "      <td>,</td>\n",
       "      <td>...</td>\n",
       "      <td>num</td>\n",
       "      <td>[pv]</td>\n",
       "      <td>min</td>\n",
       "      <td>null</td>\n",
       "      <td>maxmin</td>\n",
       "      <td>num</td>\n",
       "      <td>philipp</td>\n",
       "      <td>maxmin</td>\n",
       "      <td>prop</td>\n",
       "      <td>None</td>\n",
       "    </tr>\n",
       "    <tr>\n",
       "      <th>75336</th>\n",
       "      <td>null</td>\n",
       "      <td>min</td>\n",
       "      <td>v-pcp</td>\n",
       "      <td>supracrustais</td>\n",
       "      <td>null</td>\n",
       "      <td>min</td>\n",
       "      <td>acompanhado</td>\n",
       "      <td>min</td>\n",
       "      <td>n</td>\n",
       "      <td>rochas</td>\n",
       "      <td>...</td>\n",
       "      <td>alfa</td>\n",
       "      <td>,</td>\n",
       "      <td>min</td>\n",
       "      <td>null</td>\n",
       "      <td>min</td>\n",
       "      <td>adj</td>\n",
       "      <td>às</td>\n",
       "      <td>min</td>\n",
       "      <td>adv</td>\n",
       "      <td>None</td>\n",
       "    </tr>\n",
       "    <tr>\n",
       "      <th>9575</th>\n",
       "      <td>null</td>\n",
       "      <td>min</td>\n",
       "      <td>punc</td>\n",
       "      <td>nas</td>\n",
       "      <td>null</td>\n",
       "      <td>min</td>\n",
       "      <td>,</td>\n",
       "      <td>min</td>\n",
       "      <td>v-pcp</td>\n",
       "      <td>encapsulado</td>\n",
       "      <td>...</td>\n",
       "      <td>alfa</td>\n",
       "      <td>gargantas</td>\n",
       "      <td>min</td>\n",
       "      <td>null</td>\n",
       "      <td>min</td>\n",
       "      <td>n</td>\n",
       "      <td>é</td>\n",
       "      <td>min</td>\n",
       "      <td>v-fin</td>\n",
       "      <td>None</td>\n",
       "    </tr>\n",
       "  </tbody>\n",
       "</table>\n",
       "<p>5 rows × 21 columns</p>\n",
       "</div>"
      ],
      "text/plain": [
       "        suf nextCap next2T           word   gaz prevCap       next2W  cap  \\\n",
       "41613  null     min   prop           2000  null     min        lopes  min   \n",
       "59026  null     min    prp     descoberta  null     min          por  min   \n",
       "16028  null     min  v-fin           1998  null     min      chemale  min   \n",
       "75336  null     min  v-pcp  supracrustais  null     min  acompanhado  min   \n",
       "9575   null     min   punc            nas  null     min            ,  min   \n",
       "\n",
       "       prevT        prevW  ...   simb      nextW  ini  pref prev2Cap  tag  \\\n",
       "41613   punc            ,  ...    num       [pv]  min  null   maxmin  num   \n",
       "59026    art            a  ...   alfa          ,  min  null      min    n   \n",
       "16028   punc            ,  ...    num       [pv]  min  null   maxmin  num   \n",
       "75336      n       rochas  ...   alfa          ,  min  null      min  adj   \n",
       "9575   v-pcp  encapsulado  ...   alfa  gargantas  min  null      min    n   \n",
       "\n",
       "        prev2W next2Cap prev2T class  \n",
       "41613    romão   maxmin   prop  None  \n",
       "59026      com      min    prp  None  \n",
       "16028  philipp   maxmin   prop  None  \n",
       "75336       às      min    adv  None  \n",
       "9575         é      min  v-fin  None  \n",
       "\n",
       "[5 rows x 21 columns]"
      ]
     },
     "execution_count": 3,
     "metadata": {},
     "output_type": "execute_result"
    }
   ],
   "source": [
    "features.sample(5)"
   ]
  },
  {
   "cell_type": "code",
   "execution_count": 4,
   "metadata": {
    "collapsed": true
   },
   "outputs": [],
   "source": [
    "label_encoder = LabelEncoder()\n",
    "target = label_encoder.fit_transform(features['class'].astype(str))\n",
    "features.drop('class',axis=1,inplace=True)"
   ]
  },
  {
   "cell_type": "code",
   "execution_count": 5,
   "metadata": {
    "collapsed": true
   },
   "outputs": [],
   "source": [
    "data = pd.DataFrame()\n",
    "\n",
    "for column in features.columns:\n",
    "    label_encoder = LabelEncoder()\n",
    "    data[column] = label_encoder.fit_transform(features[column].astype(str))"
   ]
  },
  {
   "cell_type": "code",
   "execution_count": 18,
   "metadata": {},
   "outputs": [
    {
     "name": "stdout",
     "output_type": "stream",
     "text": [
      "0.872267341949\n"
     ]
    }
   ],
   "source": [
    "from sklearn.naive_bayes import GaussianNB\n",
    "\n",
    "model = GaussianNB()\n",
    "\n",
    "acc = cross_val_score(model, data, target, cv=10, scoring='accuracy').mean()\n",
    "print(acc)"
   ]
  },
  {
   "cell_type": "code",
   "execution_count": null,
   "metadata": {},
   "outputs": [],
   "source": [
    "from sklearn.ensemble import GradientBoostingClassifier\n",
    "\n",
    "model = GradientBoostingClassifier()\n",
    "\n",
    "acc = cross_val_score(model, data, target, cv=10, scoring='accuracy').mean()\n",
    "print(acc)"
   ]
  },
  {
   "cell_type": "code",
   "execution_count": null,
   "metadata": {
    "collapsed": true
   },
   "outputs": [],
   "source": [
    "from sklearn.svm import LinearSVC\n",
    "\n",
    "model = LinearSVC()\n",
    "\n",
    "acc = cross_val_score(model, data, target, cv=10, scoring='accuracy').mean()\n",
    "print(acc)"
   ]
  }
 ],
 "metadata": {
  "kernelspec": {
   "display_name": "Python 3",
   "language": "python",
   "name": "python3"
  },
  "language_info": {
   "codemirror_mode": {
    "name": "ipython",
    "version": 3
   },
   "file_extension": ".py",
   "mimetype": "text/x-python",
   "name": "python",
   "nbconvert_exporter": "python",
   "pygments_lexer": "ipython3",
   "version": "3.6.1"
  }
 },
 "nbformat": 4,
 "nbformat_minor": 2
}
