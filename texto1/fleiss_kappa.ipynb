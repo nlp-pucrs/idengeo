{
 "cells": [
  {
   "cell_type": "markdown",
   "metadata": {},
   "source": [
    "### Monta Tabela de Anotação"
   ]
  },
  {
   "cell_type": "code",
   "execution_count": 42,
   "metadata": {
    "scrolled": true
   },
   "outputs": [
    {
     "name": "stdout",
     "output_type": "stream",
     "text": [
      "286\n"
     ]
    },
    {
     "data": {
      "text/html": [
       "<div>\n",
       "<style>\n",
       "    .dataframe thead tr:only-child th {\n",
       "        text-align: right;\n",
       "    }\n",
       "\n",
       "    .dataframe thead th {\n",
       "        text-align: left;\n",
       "    }\n",
       "\n",
       "    .dataframe tbody tr th {\n",
       "        vertical-align: top;\n",
       "    }\n",
       "</style>\n",
       "<table border=\"1\" class=\"dataframe\">\n",
       "  <thead>\n",
       "    <tr style=\"text-align: right;\">\n",
       "      <th></th>\n",
       "      <th>0</th>\n",
       "      <th>1</th>\n",
       "      <th>2</th>\n",
       "    </tr>\n",
       "  </thead>\n",
       "  <tbody>\n",
       "    <tr>\n",
       "      <th>zonas de cisalhamento - 6</th>\n",
       "      <td>CONTEXTOgeologicoDeBACIA</td>\n",
       "      <td></td>\n",
       "      <td>CONTEXTOgeologicoDeBACIA</td>\n",
       "    </tr>\n",
       "    <tr>\n",
       "      <th>neoproterozoicas - 41</th>\n",
       "      <td>era</td>\n",
       "      <td>eon</td>\n",
       "      <td>era</td>\n",
       "    </tr>\n",
       "    <tr>\n",
       "      <th>Bacia do Paraná - 54</th>\n",
       "      <td>baciaSEDIMENTAR</td>\n",
       "      <td>baciaSEDIMENTAR</td>\n",
       "      <td>baciaSEDIMENTAR</td>\n",
       "    </tr>\n",
       "    <tr>\n",
       "      <th>Fanerozoico - 58</th>\n",
       "      <td>EON</td>\n",
       "      <td>EON</td>\n",
       "      <td>EON</td>\n",
       "    </tr>\n",
       "    <tr>\n",
       "      <th>Zona de Cisalhamento - 99</th>\n",
       "      <td>CONTEXTOgeologicoDeBACIA</td>\n",
       "      <td></td>\n",
       "      <td>CONTEXTOgeologicoDeBACIA</td>\n",
       "    </tr>\n",
       "    <tr>\n",
       "      <th>zonas de cisalhamento - 155</th>\n",
       "      <td>CONTEXTOgeologicoDeBACIA</td>\n",
       "      <td></td>\n",
       "      <td>CONTEXTOgeologicoDeBACIA</td>\n",
       "    </tr>\n",
       "    <tr>\n",
       "      <th>Bacia do Paraná - 168</th>\n",
       "      <td>baciaSEDIMENTAR</td>\n",
       "      <td>baciaSEDIMENTAR</td>\n",
       "      <td>baciaSEDIMENTAR</td>\n",
       "    </tr>\n",
       "    <tr>\n",
       "      <th>Zona de Cisalhamento - 174</th>\n",
       "      <td>CONTEXTOgeologicoDeBACIA</td>\n",
       "      <td></td>\n",
       "      <td>CONTEXTOgeologicoDeBACIA</td>\n",
       "    </tr>\n",
       "    <tr>\n",
       "      <th>Zona de Cisalhamento - 294</th>\n",
       "      <td>CONTEXTOgeologicoDeBACIA</td>\n",
       "      <td></td>\n",
       "      <td>CONTEXTOgeologicoDeBACIA</td>\n",
       "    </tr>\n",
       "    <tr>\n",
       "      <th>fanerozoicas - 326</th>\n",
       "      <td>eon</td>\n",
       "      <td>eon</td>\n",
       "      <td>eon</td>\n",
       "    </tr>\n",
       "  </tbody>\n",
       "</table>\n",
       "</div>"
      ],
      "text/plain": [
       "                                                    0                1  \\\n",
       "zonas de cisalhamento - 6    CONTEXTOgeologicoDeBACIA                    \n",
       "neoproterozoicas - 41                             era              eon   \n",
       "Bacia do Paraná - 54                  baciaSEDIMENTAR  baciaSEDIMENTAR   \n",
       "Fanerozoico - 58                                  EON              EON   \n",
       "Zona de Cisalhamento - 99    CONTEXTOgeologicoDeBACIA                    \n",
       "zonas de cisalhamento - 155  CONTEXTOgeologicoDeBACIA                    \n",
       "Bacia do Paraná - 168                 baciaSEDIMENTAR  baciaSEDIMENTAR   \n",
       "Zona de Cisalhamento - 174   CONTEXTOgeologicoDeBACIA                    \n",
       "Zona de Cisalhamento - 294   CONTEXTOgeologicoDeBACIA                    \n",
       "fanerozoicas - 326                                eon              eon   \n",
       "\n",
       "                                                    2  \n",
       "zonas de cisalhamento - 6    CONTEXTOgeologicoDeBACIA  \n",
       "neoproterozoicas - 41                             era  \n",
       "Bacia do Paraná - 54                  baciaSEDIMENTAR  \n",
       "Fanerozoico - 58                                  EON  \n",
       "Zona de Cisalhamento - 99    CONTEXTOgeologicoDeBACIA  \n",
       "zonas de cisalhamento - 155  CONTEXTOgeologicoDeBACIA  \n",
       "Bacia do Paraná - 168                 baciaSEDIMENTAR  \n",
       "Zona de Cisalhamento - 174   CONTEXTOgeologicoDeBACIA  \n",
       "Zona de Cisalhamento - 294   CONTEXTOgeologicoDeBACIA  \n",
       "fanerozoicas - 326                                eon  "
      ]
     },
     "execution_count": 42,
     "metadata": {},
     "output_type": "execute_result"
    }
   ],
   "source": [
    "import collections\n",
    "import re\n",
    "import pandas as pd\n",
    "\n",
    "dictF = collections.OrderedDict()\n",
    "anotador = 0\n",
    "cont = 1\n",
    "str1 = \"\"\n",
    "\n",
    "for filename in ['Clear_01_1_ISO_Andressa_Bressani.xml','Clear_01_1_ISO_Eric_Eltz.xml', 'Clear_01_1_ISO_Keli_Schell.xml' ]:\n",
    "    \n",
    "    with open(filename,'r') as file:\n",
    "        cont = 1\n",
    "        for line in file:\n",
    "\n",
    "            if line.find(\"EM-ID\") >= 0 and line.find(\"/EM\") >= 0:\n",
    "                str1 = re.findall('(?<=>).*?(?=<)', line)[0] + \" - \" + str(cont)\n",
    "                categoria = re.findall('(?<=CATEG=\").*?(?=\")', line)[0]\n",
    "                #print(str1)\n",
    "                if str1 in dictF:\n",
    "                    dictF[str1][anotador] = categoria\n",
    "                else:\n",
    "                    dictF[str1] = ['','','']\n",
    "                    dictF[str1][anotador] = categoria\n",
    "            \n",
    "            elif line.find(\"EM-ID\") >= 0:\n",
    "                str1 = re.findall('(?<=>).*?(?=$)', line)[0]\n",
    "                str1 = str1.replace(\"\\n\", \"\")\n",
    "                categoria = re.findall('(?<=CATEG=\").*?(?=\")', line)[0]\n",
    "            \n",
    "            elif line.find(\"/EM\") >= 0:\n",
    "                str1 = str1 + \" \" + re.findall('(?<=^).*?(?=<)', line)[0] + \" - \" + str(cont)\n",
    "                str1 = str1.replace(\"\\n\", \"\")\n",
    "                if str1 in dictF:\n",
    "                    dictF[str1][anotador] = categoria\n",
    "                else:\n",
    "                    dictF[str1] = ['','','']\n",
    "                    dictF[str1][anotador] = categoria\n",
    "                str1 = \"\"\n",
    "            \n",
    "            else:\n",
    "                str1 = str1 + \" \" + line\n",
    "                \n",
    "            cont += 1\n",
    "        \n",
    "    anotador += 1\n",
    "    \n",
    "print(len(dictF))\n",
    "    \n",
    "kappa_pd = pd.DataFrame.from_dict(dictF,orient='index')\n",
    "kappa_pd[:10]"
   ]
  },
  {
   "cell_type": "markdown",
   "metadata": {},
   "source": [
    "### Montagem da Tabela para o Kappa"
   ]
  },
  {
   "cell_type": "code",
   "execution_count": 43,
   "metadata": {},
   "outputs": [
    {
     "name": "stdout",
     "output_type": "stream",
     "text": [
      "0\n",
      "1unidadeestratigrafica\n",
      "2formacao\n",
      "3idade\n",
      "4contextogeologicodebacia\n",
      "5outro\n",
      "6baciasedimentar\n",
      "7periodo\n",
      "8era\n",
      "9eon\n"
     ]
    }
   ],
   "source": [
    "classes = set()\n",
    "\n",
    "for x in kappa_pd[0].unique():\n",
    "    classes.add(x.lower())\n",
    "    \n",
    "for x in kappa_pd[1].unique():\n",
    "    classes.add(x.lower())\n",
    "    \n",
    "for x in kappa_pd[2].unique():\n",
    "    classes.add(x.lower())\n",
    "\n",
    "class_id = 0\n",
    "for clas in classes:\n",
    "    print(str(class_id) + clas)\n",
    "    class_id += 1"
   ]
  },
  {
   "cell_type": "code",
   "execution_count": 44,
   "metadata": {
    "scrolled": true
   },
   "outputs": [
    {
     "data": {
      "text/plain": [
       "[[1, 0, 0, 0, 2, 0, 0, 0, 0, 0],\n",
       " [0, 0, 0, 0, 0, 0, 0, 0, 2, 1],\n",
       " [0, 0, 0, 0, 0, 0, 3, 0, 0, 0],\n",
       " [0, 0, 0, 0, 0, 0, 0, 0, 0, 3],\n",
       " [1, 0, 0, 0, 2, 0, 0, 0, 0, 0],\n",
       " [1, 0, 0, 0, 2, 0, 0, 0, 0, 0],\n",
       " [0, 0, 0, 0, 0, 0, 3, 0, 0, 0],\n",
       " [1, 0, 0, 0, 2, 0, 0, 0, 0, 0],\n",
       " [1, 0, 0, 0, 2, 0, 0, 0, 0, 0],\n",
       " [0, 0, 0, 0, 0, 0, 0, 0, 0, 3]]"
      ]
     },
     "execution_count": 44,
     "metadata": {},
     "output_type": "execute_result"
    }
   ],
   "source": [
    "w, h = len(classes), len(kappa_pd);\n",
    "kappa_table = [[0 for x in range(w)] for y in range(h)] \n",
    "\n",
    "row_id = 0\n",
    "for index, row in kappa_pd.iterrows():\n",
    "    class_id = 0\n",
    "    #print(row)\n",
    "    for clas in classes:\n",
    "        #print(str(class_id) + clas)\n",
    "        if row[0].lower() == clas:\n",
    "            kappa_table[row_id][class_id] += 1\n",
    "        if row[1].lower() == clas:\n",
    "            kappa_table[row_id][class_id] += 1\n",
    "        if row[2].lower() == clas:\n",
    "            kappa_table[row_id][class_id] += 1\n",
    "        class_id += 1\n",
    "    row_id += 1\n",
    "    #break\n",
    "            \n",
    "kappa_table[:10] #sample 10"
   ]
  },
  {
   "cell_type": "code",
   "execution_count": 23,
   "metadata": {},
   "outputs": [
    {
     "data": {
      "text/plain": [
       "0.15955482017731867"
      ]
     },
     "execution_count": 23,
     "metadata": {},
     "output_type": "execute_result"
    }
   ],
   "source": [
    "from statsmodels.stats.inter_rater import fleiss_kappa\n",
    "fleiss_kappa(kappa_table)"
   ]
  },
  {
   "cell_type": "markdown",
   "metadata": {},
   "source": [
    "### Cálculo do Fleiss Kappa manualmente"
   ]
  },
  {
   "cell_type": "code",
   "execution_count": 9,
   "metadata": {},
   "outputs": [
    {
     "name": "stdout",
     "output_type": "stream",
     "text": [
      "[1, 0, 0, 0, 2, 0, 0, 0, 0, 0]\n",
      "0.3333333333333333\n",
      "[0, 0, 0, 0, 0, 0, 0, 0, 2, 1]\n",
      "0.3333333333333333\n",
      "[0, 0, 0, 0, 0, 0, 3, 0, 0, 0]\n",
      "1.0\n",
      "[0, 0, 0, 0, 0, 0, 0, 0, 0, 3]\n",
      "1.0\n",
      "[1, 0, 0, 0, 2, 0, 0, 0, 0, 0]\n",
      "0.3333333333333333\n",
      "[1, 0, 0, 0, 2, 0, 0, 0, 0, 0]\n",
      "0.3333333333333333\n",
      "[0, 0, 0, 0, 0, 0, 3, 0, 0, 0]\n",
      "1.0\n",
      "[1, 0, 0, 0, 2, 0, 0, 0, 0, 0]\n",
      "0.3333333333333333\n",
      "[1, 0, 0, 0, 2, 0, 0, 0, 0, 0]\n",
      "0.3333333333333333\n",
      "[0, 0, 0, 0, 0, 0, 0, 0, 0, 3]\n",
      "1.0\n",
      "[0, 0, 0, 0, 0, 0, 3, 0, 0, 0]\n",
      "1.0\n",
      "[0, 0, 0, 0, 0, 0, 0, 0, 0, 3]\n",
      "1.0\n",
      "[0, 0, 0, 0, 0, 0, 3, 0, 0, 0]\n",
      "1.0\n",
      "[0, 0, 0, 0, 0, 0, 0, 0, 0, 3]\n",
      "1.0\n"
     ]
    }
   ],
   "source": [
    "NC = 3 * len(kappa_table)\n",
    "\n",
    "Z = 0 \n",
    "for vec in kappa_table:\n",
    "    S = 0\n",
    "    for clas in vec:\n",
    "        S += (clas * (clas - 1))\n",
    "    S = (1 / (3 * (3 - 1))) * S\n",
    "    if Z < 10: # sample\n",
    "        print(vec)\n",
    "        print(S)\n",
    "    Z += S"
   ]
  },
  {
   "cell_type": "code",
   "execution_count": 10,
   "metadata": {},
   "outputs": [
    {
     "data": {
      "text/plain": [
       "0.43006993006992733"
      ]
     },
     "execution_count": 10,
     "metadata": {},
     "output_type": "execute_result"
    }
   ],
   "source": [
    "PA = Z / len(kappa_table)\n",
    "PA"
   ]
  },
  {
   "cell_type": "code",
   "execution_count": 11,
   "metadata": {},
   "outputs": [
    {
     "data": {
      "text/plain": [
       "858"
      ]
     },
     "execution_count": 11,
     "metadata": {},
     "output_type": "execute_result"
    }
   ],
   "source": [
    "NC = 3 * len(kappa_table)\n",
    "NC"
   ]
  },
  {
   "cell_type": "code",
   "execution_count": 12,
   "metadata": {},
   "outputs": [
    {
     "data": {
      "text/plain": [
       "0    417\n",
       "1     30\n",
       "2      1\n",
       "3      2\n",
       "4    233\n",
       "5     42\n",
       "6     61\n",
       "7      5\n",
       "8     26\n",
       "9     41\n",
       "dtype: int64"
      ]
     },
     "execution_count": 12,
     "metadata": {},
     "output_type": "execute_result"
    }
   ],
   "source": [
    "class_sum = pd.DataFrame(data=kappa_table).sum(axis=0)\n",
    "class_sum"
   ]
  },
  {
   "cell_type": "code",
   "execution_count": 13,
   "metadata": {},
   "outputs": [
    {
     "name": "stdout",
     "output_type": "stream",
     "text": [
      "417/858\n",
      "30/858\n",
      "1/858\n",
      "2/858\n",
      "233/858\n",
      "42/858\n",
      "61/858\n",
      "5/858\n",
      "26/858\n",
      "41/858\n"
     ]
    },
    {
     "data": {
      "text/plain": [
       "0.32187121347960507"
      ]
     },
     "execution_count": 13,
     "metadata": {},
     "output_type": "execute_result"
    }
   ],
   "source": [
    "PE = 0\n",
    "for clas in class_sum:\n",
    "    print(str(clas) + \"/\" +str(NC))\n",
    "    PE += (clas/NC) * (clas/NC)\n",
    "PE"
   ]
  },
  {
   "cell_type": "code",
   "execution_count": 14,
   "metadata": {},
   "outputs": [
    {
     "data": {
      "text/plain": [
       "0.15955482017731473"
      ]
     },
     "execution_count": 14,
     "metadata": {},
     "output_type": "execute_result"
    }
   ],
   "source": [
    "K = (PA - PE) / (1 - PE)\n",
    "K"
   ]
  },
  {
   "cell_type": "markdown",
   "metadata": {
    "collapsed": true
   },
   "source": [
    "### Calculo Kappa de Identificação"
   ]
  },
  {
   "cell_type": "code",
   "execution_count": 28,
   "metadata": {},
   "outputs": [
    {
     "data": {
      "text/plain": [
       "[[1, 2],\n",
       " [0, 3],\n",
       " [0, 3],\n",
       " [0, 3],\n",
       " [1, 2],\n",
       " [1, 2],\n",
       " [0, 3],\n",
       " [1, 2],\n",
       " [1, 2],\n",
       " [0, 3]]"
      ]
     },
     "execution_count": 28,
     "metadata": {},
     "output_type": "execute_result"
    }
   ],
   "source": [
    "w, h = 2, len(kappa_pd);\n",
    "kappa_id_table = [[0 for x in range(w)] for y in range(h)]\n",
    "\n",
    "row_id = 0\n",
    "for index, row in kappa_pd.iterrows():\n",
    "    class_id = 0\n",
    "    for clas in classes:\n",
    "        if row[0].lower() == clas:\n",
    "            kappa_id_table[row_id][class_id] += 1\n",
    "        if row[1].lower() == clas:\n",
    "            kappa_id_table[row_id][class_id] += 1\n",
    "        if row[2].lower() == clas:\n",
    "            kappa_id_table[row_id][class_id] += 1\n",
    "        if class_id == 0:\n",
    "            class_id += 1\n",
    "    row_id += 1\n",
    "    \n",
    "kappa_id_table[:10]"
   ]
  },
  {
   "cell_type": "code",
   "execution_count": 24,
   "metadata": {},
   "outputs": [
    {
     "data": {
      "text/plain": [
       "-0.10109463449648438"
      ]
     },
     "execution_count": 24,
     "metadata": {},
     "output_type": "execute_result"
    }
   ],
   "source": [
    "fleiss_kappa(kappa_id_table)"
   ]
  },
  {
   "cell_type": "markdown",
   "metadata": {},
   "source": [
    "### Calculo Kappa da Classificação"
   ]
  },
  {
   "cell_type": "code",
   "execution_count": 48,
   "metadata": {},
   "outputs": [
    {
     "name": "stdout",
     "output_type": "stream",
     "text": [
      "(286, 10)\n",
      "\n",
      "0\n",
      "(50, 9)\n",
      "0.891120251633\n",
      "\n",
      "1unidadeestratigrafica\n",
      "(261, 9)\n",
      "0.15875780816\n",
      "\n",
      "2formacao\n",
      "(285, 9)\n",
      "0.157442856218\n",
      "\n",
      "3idade\n",
      "(284, 9)\n",
      "0.160596248461\n",
      "\n",
      "4contextogeologicodebacia\n",
      "(110, 9)\n",
      "0.436501954873\n",
      "\n",
      "5outro\n",
      "(245, 9)\n",
      "0.187080785571\n",
      "\n",
      "6baciasedimentar\n",
      "(265, 9)\n",
      "0.0331993207811\n",
      "\n",
      "7periodo\n",
      "(284, 9)\n",
      "0.152891313402\n",
      "\n",
      "8era\n",
      "(275, 9)\n",
      "0.118795440266\n",
      "\n",
      "9eon\n",
      "(268, 9)\n",
      "0.077834400453\n"
     ]
    }
   ],
   "source": [
    "kappa_class_table = pd.DataFrame(data=kappa_table)\n",
    "\n",
    "print(kappa_class_table.shape)\n",
    "\n",
    "class_id = 0\n",
    "for clas in classes:\n",
    "    print(\"\")\n",
    "    print(str(class_id) + clas)\n",
    "    kappa_class_table = kappa_class_table[kappa_class_table[class_id]==0]\n",
    "    kappa_class_table.drop(kappa_class_table.columns[class_id],inplace=True,axis=1)\n",
    "    print(kappa_class_table.shape)\n",
    "    print(fleiss_kappa(kappa_class_table.as_matrix()))\n",
    "    kappa_class_table = pd.DataFrame(data=kappa_table)\n",
    "    class_id += 1"
   ]
  },
  {
   "cell_type": "code",
   "execution_count": null,
   "metadata": {
    "collapsed": true
   },
   "outputs": [],
   "source": []
  }
 ],
 "metadata": {
  "kernelspec": {
   "display_name": "Python 3",
   "language": "python",
   "name": "python3"
  },
  "language_info": {
   "codemirror_mode": {
    "name": "ipython",
    "version": 3
   },
   "file_extension": ".py",
   "mimetype": "text/x-python",
   "name": "python",
   "nbconvert_exporter": "python",
   "pygments_lexer": "ipython3",
   "version": "3.5.3"
  }
 },
 "nbformat": 4,
 "nbformat_minor": 2
}
