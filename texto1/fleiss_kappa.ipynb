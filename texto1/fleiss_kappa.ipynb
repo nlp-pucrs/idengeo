{
 "cells": [
  {
   "cell_type": "markdown",
   "metadata": {
    "deletable": true,
    "editable": true
   },
   "source": [
    "### Monta Tabela de Anotação"
   ]
  },
  {
   "cell_type": "code",
   "execution_count": 2,
   "metadata": {
    "collapsed": false,
    "deletable": true,
    "editable": true,
    "scrolled": true
   },
   "outputs": [
    {
     "name": "stdout",
     "output_type": "stream",
     "text": [
      "286\n"
     ]
    },
    {
     "data": {
      "text/html": [
       "<div>\n",
       "<table border=\"1\" class=\"dataframe\">\n",
       "  <thead>\n",
       "    <tr style=\"text-align: right;\">\n",
       "      <th></th>\n",
       "      <th>0</th>\n",
       "      <th>1</th>\n",
       "      <th>2</th>\n",
       "    </tr>\n",
       "  </thead>\n",
       "  <tbody>\n",
       "    <tr>\n",
       "      <th>zonas de cisalhamento - 6</th>\n",
       "      <td>CONTEXTOgeologicoDeBACIA</td>\n",
       "      <td></td>\n",
       "      <td>CONTEXTOgeologicoDeBACIA</td>\n",
       "    </tr>\n",
       "    <tr>\n",
       "      <th>neoproterozoicas - 41</th>\n",
       "      <td>era</td>\n",
       "      <td>eon</td>\n",
       "      <td>era</td>\n",
       "    </tr>\n",
       "    <tr>\n",
       "      <th>Bacia do Paraná - 54</th>\n",
       "      <td>baciaSEDIMENTAR</td>\n",
       "      <td>baciaSEDIMENTAR</td>\n",
       "      <td>baciaSEDIMENTAR</td>\n",
       "    </tr>\n",
       "    <tr>\n",
       "      <th>Fanerozoico - 58</th>\n",
       "      <td>EON</td>\n",
       "      <td>EON</td>\n",
       "      <td>EON</td>\n",
       "    </tr>\n",
       "    <tr>\n",
       "      <th>Zona de Cisalhamento - 99</th>\n",
       "      <td>CONTEXTOgeologicoDeBACIA</td>\n",
       "      <td></td>\n",
       "      <td>CONTEXTOgeologicoDeBACIA</td>\n",
       "    </tr>\n",
       "    <tr>\n",
       "      <th>zonas de cisalhamento - 155</th>\n",
       "      <td>CONTEXTOgeologicoDeBACIA</td>\n",
       "      <td></td>\n",
       "      <td>CONTEXTOgeologicoDeBACIA</td>\n",
       "    </tr>\n",
       "    <tr>\n",
       "      <th>Bacia do Paraná - 168</th>\n",
       "      <td>baciaSEDIMENTAR</td>\n",
       "      <td>baciaSEDIMENTAR</td>\n",
       "      <td>baciaSEDIMENTAR</td>\n",
       "    </tr>\n",
       "    <tr>\n",
       "      <th>Zona de Cisalhamento - 174</th>\n",
       "      <td>CONTEXTOgeologicoDeBACIA</td>\n",
       "      <td></td>\n",
       "      <td>CONTEXTOgeologicoDeBACIA</td>\n",
       "    </tr>\n",
       "    <tr>\n",
       "      <th>Zona de Cisalhamento - 294</th>\n",
       "      <td>CONTEXTOgeologicoDeBACIA</td>\n",
       "      <td></td>\n",
       "      <td>CONTEXTOgeologicoDeBACIA</td>\n",
       "    </tr>\n",
       "    <tr>\n",
       "      <th>fanerozoicas - 326</th>\n",
       "      <td>eon</td>\n",
       "      <td>eon</td>\n",
       "      <td>eon</td>\n",
       "    </tr>\n",
       "  </tbody>\n",
       "</table>\n",
       "</div>"
      ],
      "text/plain": [
       "                                                    0                1  \\\n",
       "zonas de cisalhamento - 6    CONTEXTOgeologicoDeBACIA                    \n",
       "neoproterozoicas - 41                             era              eon   \n",
       "Bacia do Paraná - 54                  baciaSEDIMENTAR  baciaSEDIMENTAR   \n",
       "Fanerozoico - 58                                  EON              EON   \n",
       "Zona de Cisalhamento - 99    CONTEXTOgeologicoDeBACIA                    \n",
       "zonas de cisalhamento - 155  CONTEXTOgeologicoDeBACIA                    \n",
       "Bacia do Paraná - 168                 baciaSEDIMENTAR  baciaSEDIMENTAR   \n",
       "Zona de Cisalhamento - 174   CONTEXTOgeologicoDeBACIA                    \n",
       "Zona de Cisalhamento - 294   CONTEXTOgeologicoDeBACIA                    \n",
       "fanerozoicas - 326                                eon              eon   \n",
       "\n",
       "                                                    2  \n",
       "zonas de cisalhamento - 6    CONTEXTOgeologicoDeBACIA  \n",
       "neoproterozoicas - 41                             era  \n",
       "Bacia do Paraná - 54                  baciaSEDIMENTAR  \n",
       "Fanerozoico - 58                                  EON  \n",
       "Zona de Cisalhamento - 99    CONTEXTOgeologicoDeBACIA  \n",
       "zonas de cisalhamento - 155  CONTEXTOgeologicoDeBACIA  \n",
       "Bacia do Paraná - 168                 baciaSEDIMENTAR  \n",
       "Zona de Cisalhamento - 174   CONTEXTOgeologicoDeBACIA  \n",
       "Zona de Cisalhamento - 294   CONTEXTOgeologicoDeBACIA  \n",
       "fanerozoicas - 326                                eon  "
      ]
     },
     "execution_count": 2,
     "metadata": {},
     "output_type": "execute_result"
    }
   ],
   "source": [
    "import collections\n",
    "import re\n",
    "import pandas as pd\n",
    "\n",
    "dictF = collections.OrderedDict()\n",
    "anotador = 0\n",
    "cont = 1\n",
    "str1 = \"\"\n",
    "\n",
    "for filename in ['Clear_01_1_ISO_Andressa_Bressani.xml','Clear_01_1_ISO_Eric_Eltz.xml', 'Clear_01_1_ISO_Keli_Schell.xml' ]:\n",
    "    \n",
    "    with open(filename,'r') as file:\n",
    "        cont = 1\n",
    "        for line in file:\n",
    "\n",
    "            if line.find(\"EM-ID\") >= 0 and line.find(\"/EM\") >= 0:\n",
    "                str1 = re.findall('(?<=>).*?(?=<)', line)[0] + \" - \" + str(cont)\n",
    "                categoria = re.findall('(?<=CATEG=\").*?(?=\")', line)[0]\n",
    "                #print(str1)\n",
    "                if str1 in dictF:\n",
    "                    dictF[str1][anotador] = categoria\n",
    "                else:\n",
    "                    dictF[str1] = ['','','']\n",
    "                    dictF[str1][anotador] = categoria\n",
    "            \n",
    "            elif line.find(\"EM-ID\") >= 0:\n",
    "                str1 = re.findall('(?<=>).*?(?=$)', line)[0]\n",
    "                str1 = str1.replace(\"\\n\", \"\")\n",
    "                categoria = re.findall('(?<=CATEG=\").*?(?=\")', line)[0]\n",
    "            \n",
    "            elif line.find(\"/EM\") >= 0:\n",
    "                str1 = str1 + \" \" + re.findall('(?<=^).*?(?=<)', line)[0] + \" - \" + str(cont)\n",
    "                str1 = str1.replace(\"\\n\", \"\")\n",
    "                if str1 in dictF:\n",
    "                    dictF[str1][anotador] = categoria\n",
    "                else:\n",
    "                    dictF[str1] = ['','','']\n",
    "                    dictF[str1][anotador] = categoria\n",
    "                str1 = \"\"\n",
    "            \n",
    "            else:\n",
    "                str1 = str1 + \" \" + line\n",
    "                \n",
    "            cont += 1\n",
    "        \n",
    "    anotador += 1\n",
    "    \n",
    "print(len(dictF))\n",
    "    \n",
    "kappa_pd = pd.DataFrame.from_dict(dictF,orient='index')\n",
    "kappa_pd[:10]"
   ]
  },
  {
   "cell_type": "code",
   "execution_count": 9,
   "metadata": {
    "collapsed": false
   },
   "outputs": [
    {
     "name": "stdout",
     "output_type": "stream",
     "text": [
      "(50, 3)\n"
     ]
    },
    {
     "data": {
      "text/html": [
       "<div>\n",
       "<table border=\"1\" class=\"dataframe\">\n",
       "  <thead>\n",
       "    <tr style=\"text-align: right;\">\n",
       "      <th></th>\n",
       "      <th>0</th>\n",
       "      <th>1</th>\n",
       "      <th>2</th>\n",
       "    </tr>\n",
       "  </thead>\n",
       "  <tbody>\n",
       "    <tr>\n",
       "      <th>neoproterozoicas - 41</th>\n",
       "      <td>era</td>\n",
       "      <td>eon</td>\n",
       "      <td>era</td>\n",
       "    </tr>\n",
       "    <tr>\n",
       "      <th>Bacia do Paraná - 54</th>\n",
       "      <td>baciaSEDIMENTAR</td>\n",
       "      <td>baciaSEDIMENTAR</td>\n",
       "      <td>baciaSEDIMENTAR</td>\n",
       "    </tr>\n",
       "    <tr>\n",
       "      <th>Fanerozoico - 58</th>\n",
       "      <td>EON</td>\n",
       "      <td>EON</td>\n",
       "      <td>EON</td>\n",
       "    </tr>\n",
       "    <tr>\n",
       "      <th>Bacia do Paraná - 168</th>\n",
       "      <td>baciaSEDIMENTAR</td>\n",
       "      <td>baciaSEDIMENTAR</td>\n",
       "      <td>baciaSEDIMENTAR</td>\n",
       "    </tr>\n",
       "    <tr>\n",
       "      <th>fanerozoicas - 326</th>\n",
       "      <td>eon</td>\n",
       "      <td>eon</td>\n",
       "      <td>eon</td>\n",
       "    </tr>\n",
       "    <tr>\n",
       "      <th>Bacia do Paraná - 330</th>\n",
       "      <td>baciaSEDIMENTAR</td>\n",
       "      <td>baciaSEDIMENTAR</td>\n",
       "      <td>baciaSEDIMENTAR</td>\n",
       "    </tr>\n",
       "    <tr>\n",
       "      <th>Pré-Cambriano - 402</th>\n",
       "      <td>eon</td>\n",
       "      <td>eon</td>\n",
       "      <td>eon</td>\n",
       "    </tr>\n",
       "    <tr>\n",
       "      <th>Bacia do Paraná - 408</th>\n",
       "      <td>baciaSEDIMENTAR</td>\n",
       "      <td>baciaSEDIMENTAR</td>\n",
       "      <td>baciaSEDIMENTAR</td>\n",
       "    </tr>\n",
       "    <tr>\n",
       "      <th>pré-cambriano - 428</th>\n",
       "      <td>eon</td>\n",
       "      <td>eon</td>\n",
       "      <td>eon</td>\n",
       "    </tr>\n",
       "    <tr>\n",
       "      <th>transcorrentes destrais - 545</th>\n",
       "      <td>CONTEXTOgeologicoDeBACIA</td>\n",
       "      <td>CONTEXTOgeologicoDeBACIA</td>\n",
       "      <td>CONTEXTOgeologicoDeBACIA</td>\n",
       "    </tr>\n",
       "    <tr>\n",
       "      <th>neoproterozoica - 556</th>\n",
       "      <td>era</td>\n",
       "      <td>eon</td>\n",
       "      <td>era</td>\n",
       "    </tr>\n",
       "    <tr>\n",
       "      <th>Bacia do Paraná - 606</th>\n",
       "      <td>baciaSEDIMENTAR</td>\n",
       "      <td>baciaSEDIMENTAR</td>\n",
       "      <td>baciaSEDIMENTAR</td>\n",
       "    </tr>\n",
       "    <tr>\n",
       "      <th>transcorrente - 622</th>\n",
       "      <td>CONTEXTOgeologicoDeBACIA</td>\n",
       "      <td>CONTEXTOgeologicoDeBACIA</td>\n",
       "      <td>CONTEXTOgeologicoDeBACIA</td>\n",
       "    </tr>\n",
       "    <tr>\n",
       "      <th>Pré-Cambriano - 719</th>\n",
       "      <td>eon</td>\n",
       "      <td>EON</td>\n",
       "      <td>EON</td>\n",
       "    </tr>\n",
       "    <tr>\n",
       "      <th>Pré-Cambriano - 744</th>\n",
       "      <td>eon</td>\n",
       "      <td>EON</td>\n",
       "      <td>EON</td>\n",
       "    </tr>\n",
       "    <tr>\n",
       "      <th>Pré-Cambriano - 905</th>\n",
       "      <td>EON</td>\n",
       "      <td>EON</td>\n",
       "      <td>EON</td>\n",
       "    </tr>\n",
       "    <tr>\n",
       "      <th>bacia do Paraná - 983</th>\n",
       "      <td>baciaSEDIMENTAR</td>\n",
       "      <td>baciaSEDIMENTAR</td>\n",
       "      <td>baciaSEDIMENTAR</td>\n",
       "    </tr>\n",
       "    <tr>\n",
       "      <th>Paleoproterozóico - 1115</th>\n",
       "      <td>era</td>\n",
       "      <td>ERA</td>\n",
       "      <td>ERA</td>\n",
       "    </tr>\n",
       "    <tr>\n",
       "      <th>mesoproterozoicos - 1118</th>\n",
       "      <td>era</td>\n",
       "      <td>eon</td>\n",
       "      <td>era</td>\n",
       "    </tr>\n",
       "    <tr>\n",
       "      <th>neoproterozoicos - 1121</th>\n",
       "      <td>era</td>\n",
       "      <td>eon</td>\n",
       "      <td>era</td>\n",
       "    </tr>\n",
       "    <tr>\n",
       "      <th>Neoproterozoico - 1167</th>\n",
       "      <td>ERA</td>\n",
       "      <td>ERA</td>\n",
       "      <td>ERA</td>\n",
       "    </tr>\n",
       "    <tr>\n",
       "      <th>Arqueana - 1258</th>\n",
       "      <td>eon</td>\n",
       "      <td>eon</td>\n",
       "      <td>eon</td>\n",
       "    </tr>\n",
       "    <tr>\n",
       "      <th>Paleoproterozóico - 1264</th>\n",
       "      <td>ERA</td>\n",
       "      <td>ERA</td>\n",
       "      <td>ERA</td>\n",
       "    </tr>\n",
       "    <tr>\n",
       "      <th>Neoproterozoico - 1266</th>\n",
       "      <td>era</td>\n",
       "      <td>eon</td>\n",
       "      <td>era</td>\n",
       "    </tr>\n",
       "    <tr>\n",
       "      <th>fanerozoico - 1339</th>\n",
       "      <td>eon</td>\n",
       "      <td>eon</td>\n",
       "      <td>eon</td>\n",
       "    </tr>\n",
       "    <tr>\n",
       "      <th>Bacia do Paraná - 1360</th>\n",
       "      <td>baciaSEDIMENTAR</td>\n",
       "      <td>baciaSEDIMENTAR</td>\n",
       "      <td>baciaSEDIMENTAR</td>\n",
       "    </tr>\n",
       "    <tr>\n",
       "      <th>Bacia do Paraná - 1390</th>\n",
       "      <td>baciaSEDIMENTAR</td>\n",
       "      <td>baciaSEDIMENTAR</td>\n",
       "      <td>baciaSEDIMENTAR</td>\n",
       "    </tr>\n",
       "    <tr>\n",
       "      <th>Formação Serra Geral - 1460</th>\n",
       "      <td>formacao</td>\n",
       "      <td>unidadeESTRATIGRAFICA</td>\n",
       "      <td>unidadeESTRATIGRAFICA</td>\n",
       "    </tr>\n",
       "    <tr>\n",
       "      <th>Cretáceo - 1473</th>\n",
       "      <td>PERIODO</td>\n",
       "      <td>PERIODO</td>\n",
       "      <td>PERIODO</td>\n",
       "    </tr>\n",
       "    <tr>\n",
       "      <th>Formação Tinguis - 1489</th>\n",
       "      <td>unidadeESTRATIGRAFICA</td>\n",
       "      <td>unidadeESTRATIGRAFICA</td>\n",
       "      <td>unidadeESTRATIGRAFICA</td>\n",
       "    </tr>\n",
       "    <tr>\n",
       "      <th>Cenozoico - 1491</th>\n",
       "      <td>era</td>\n",
       "      <td>era</td>\n",
       "      <td>era</td>\n",
       "    </tr>\n",
       "    <tr>\n",
       "      <th>Bacia do Paraná - 1605</th>\n",
       "      <td>baciaSEDIMENTAR</td>\n",
       "      <td>baciaSEDIMENTAR</td>\n",
       "      <td>baciaSEDIMENTAR</td>\n",
       "    </tr>\n",
       "    <tr>\n",
       "      <th>Bacia do Paraná - 1665</th>\n",
       "      <td>baciaSEDIMENTAR</td>\n",
       "      <td>baciaSEDIMENTAR</td>\n",
       "      <td>baciaSEDIMENTAR</td>\n",
       "    </tr>\n",
       "    <tr>\n",
       "      <th>Bacia do Paraná - 1677</th>\n",
       "      <td>baciaSEDIMENTAR</td>\n",
       "      <td>baciaSEDIMENTAR</td>\n",
       "      <td>baciaSEDIMENTAR</td>\n",
       "    </tr>\n",
       "    <tr>\n",
       "      <th>Bacia do Paraná - 1741</th>\n",
       "      <td>baciaSEDIMENTAR</td>\n",
       "      <td>baciaSEDIMENTAR</td>\n",
       "      <td>baciaSEDIMENTAR</td>\n",
       "    </tr>\n",
       "    <tr>\n",
       "      <th>Bacia do Paraná - 2912</th>\n",
       "      <td>baciaSEDIMENTAR</td>\n",
       "      <td>baciaSEDIMENTAR</td>\n",
       "      <td>baciaSEDIMENTAR</td>\n",
       "    </tr>\n",
       "    <tr>\n",
       "      <th>Bacia do Paraná - 3448</th>\n",
       "      <td>baciaSEDIMENTAR</td>\n",
       "      <td>baciaSEDIMENTAR</td>\n",
       "      <td>baciaSEDIMENTAR</td>\n",
       "    </tr>\n",
       "    <tr>\n",
       "      <th>Grupo Passa Dois - 3590</th>\n",
       "      <td>unidadeESTRATIGRAFICA</td>\n",
       "      <td>unidadeESTRATIGRAFICA</td>\n",
       "      <td>unidadeESTRATIGRAFICA</td>\n",
       "    </tr>\n",
       "    <tr>\n",
       "      <th>falhamentos - 3593</th>\n",
       "      <td>CONTEXTOgeologicoDeBACIA</td>\n",
       "      <td>CONTEXTOgeologicoDeBACIA</td>\n",
       "      <td>CONTEXTOgeologicoDeBACIA</td>\n",
       "    </tr>\n",
       "    <tr>\n",
       "      <th>cisalhamento - 3799</th>\n",
       "      <td>CONTEXTOgeologicoDeBACIA</td>\n",
       "      <td>CONTEXTOgeologicoDeBACIA</td>\n",
       "      <td>CONTEXTOgeologicoDeBACIA</td>\n",
       "    </tr>\n",
       "    <tr>\n",
       "      <th>Mesozoico - 3945</th>\n",
       "      <td>era</td>\n",
       "      <td>ERA</td>\n",
       "      <td>ERA</td>\n",
       "    </tr>\n",
       "    <tr>\n",
       "      <th>Pré-Cambriano - 3986</th>\n",
       "      <td>EON</td>\n",
       "      <td>EON</td>\n",
       "      <td>EON</td>\n",
       "    </tr>\n",
       "    <tr>\n",
       "      <th>Bacia do Paraná - 3997</th>\n",
       "      <td>baciaSEDIMENTAR</td>\n",
       "      <td>baciaSEDIMENTAR</td>\n",
       "      <td>baciaSEDIMENTAR</td>\n",
       "    </tr>\n",
       "    <tr>\n",
       "      <th>pré-cambrianas - 4095</th>\n",
       "      <td>eon</td>\n",
       "      <td>eon</td>\n",
       "      <td>eon</td>\n",
       "    </tr>\n",
       "    <tr>\n",
       "      <th>Bacia do Paraná - 4131</th>\n",
       "      <td>baciaSEDIMENTAR</td>\n",
       "      <td>baciaSEDIMENTAR</td>\n",
       "      <td>baciaSEDIMENTAR</td>\n",
       "    </tr>\n",
       "    <tr>\n",
       "      <th>Bacia do Paraná - 4196</th>\n",
       "      <td>baciaSEDIMENTAR</td>\n",
       "      <td>baciaSEDIMENTAR</td>\n",
       "      <td>baciaSEDIMENTAR</td>\n",
       "    </tr>\n",
       "    <tr>\n",
       "      <th>Bacia do Paraná - 4353</th>\n",
       "      <td>baciaSEDIMENTAR</td>\n",
       "      <td>baciaSEDIMENTAR</td>\n",
       "      <td>baciaSEDIMENTAR</td>\n",
       "    </tr>\n",
       "    <tr>\n",
       "      <th>transcorrência - 4439</th>\n",
       "      <td>CONTEXTOgeologicoDeBACIA</td>\n",
       "      <td>CONTEXTOgeologicoDeBACIA</td>\n",
       "      <td>CONTEXTOgeologicoDeBACIA</td>\n",
       "    </tr>\n",
       "    <tr>\n",
       "      <th>Bacia do Paraná - 4597</th>\n",
       "      <td>baciaSEDIMENTAR</td>\n",
       "      <td>baciaSEDIMENTAR</td>\n",
       "      <td>baciaSEDIMENTAR</td>\n",
       "    </tr>\n",
       "    <tr>\n",
       "      <th>Bacia do Paraná - 4654</th>\n",
       "      <td>baciaSEDIMENTAR</td>\n",
       "      <td>baciaSEDIMENTAR</td>\n",
       "      <td>baciaSEDIMENTAR</td>\n",
       "    </tr>\n",
       "  </tbody>\n",
       "</table>\n",
       "</div>"
      ],
      "text/plain": [
       "                                                      0  \\\n",
       "neoproterozoicas - 41                               era   \n",
       "Bacia do Paraná - 54                    baciaSEDIMENTAR   \n",
       "Fanerozoico - 58                                    EON   \n",
       "Bacia do Paraná - 168                   baciaSEDIMENTAR   \n",
       "fanerozoicas - 326                                  eon   \n",
       "Bacia do Paraná - 330                   baciaSEDIMENTAR   \n",
       "Pré-Cambriano - 402                                 eon   \n",
       "Bacia do Paraná - 408                   baciaSEDIMENTAR   \n",
       "pré-cambriano - 428                                 eon   \n",
       "transcorrentes destrais - 545  CONTEXTOgeologicoDeBACIA   \n",
       "neoproterozoica - 556                               era   \n",
       "Bacia do Paraná - 606                   baciaSEDIMENTAR   \n",
       "transcorrente - 622            CONTEXTOgeologicoDeBACIA   \n",
       "Pré-Cambriano - 719                                 eon   \n",
       "Pré-Cambriano - 744                                 eon   \n",
       "Pré-Cambriano - 905                                 EON   \n",
       "bacia do Paraná - 983                   baciaSEDIMENTAR   \n",
       "Paleoproterozóico - 1115                            era   \n",
       "mesoproterozoicos - 1118                            era   \n",
       "neoproterozoicos - 1121                             era   \n",
       "Neoproterozoico - 1167                              ERA   \n",
       "Arqueana - 1258                                     eon   \n",
       "Paleoproterozóico - 1264                            ERA   \n",
       "Neoproterozoico - 1266                              era   \n",
       "fanerozoico - 1339                                  eon   \n",
       "Bacia do Paraná - 1360                  baciaSEDIMENTAR   \n",
       "Bacia do Paraná - 1390                  baciaSEDIMENTAR   \n",
       "Formação Serra Geral - 1460                    formacao   \n",
       "Cretáceo - 1473                                 PERIODO   \n",
       "Formação Tinguis - 1489           unidadeESTRATIGRAFICA   \n",
       "Cenozoico - 1491                                    era   \n",
       "Bacia do Paraná - 1605                  baciaSEDIMENTAR   \n",
       "Bacia do Paraná - 1665                  baciaSEDIMENTAR   \n",
       "Bacia do Paraná - 1677                  baciaSEDIMENTAR   \n",
       "Bacia do Paraná - 1741                  baciaSEDIMENTAR   \n",
       "Bacia do Paraná - 2912                  baciaSEDIMENTAR   \n",
       "Bacia do Paraná - 3448                  baciaSEDIMENTAR   \n",
       "Grupo Passa Dois - 3590           unidadeESTRATIGRAFICA   \n",
       "falhamentos - 3593             CONTEXTOgeologicoDeBACIA   \n",
       "cisalhamento - 3799            CONTEXTOgeologicoDeBACIA   \n",
       "Mesozoico - 3945                                    era   \n",
       "Pré-Cambriano - 3986                                EON   \n",
       "Bacia do Paraná - 3997                  baciaSEDIMENTAR   \n",
       "pré-cambrianas - 4095                               eon   \n",
       "Bacia do Paraná - 4131                  baciaSEDIMENTAR   \n",
       "Bacia do Paraná - 4196                  baciaSEDIMENTAR   \n",
       "Bacia do Paraná - 4353                  baciaSEDIMENTAR   \n",
       "transcorrência - 4439          CONTEXTOgeologicoDeBACIA   \n",
       "Bacia do Paraná - 4597                  baciaSEDIMENTAR   \n",
       "Bacia do Paraná - 4654                  baciaSEDIMENTAR   \n",
       "\n",
       "                                                      1  \\\n",
       "neoproterozoicas - 41                               eon   \n",
       "Bacia do Paraná - 54                    baciaSEDIMENTAR   \n",
       "Fanerozoico - 58                                    EON   \n",
       "Bacia do Paraná - 168                   baciaSEDIMENTAR   \n",
       "fanerozoicas - 326                                  eon   \n",
       "Bacia do Paraná - 330                   baciaSEDIMENTAR   \n",
       "Pré-Cambriano - 402                                 eon   \n",
       "Bacia do Paraná - 408                   baciaSEDIMENTAR   \n",
       "pré-cambriano - 428                                 eon   \n",
       "transcorrentes destrais - 545  CONTEXTOgeologicoDeBACIA   \n",
       "neoproterozoica - 556                               eon   \n",
       "Bacia do Paraná - 606                   baciaSEDIMENTAR   \n",
       "transcorrente - 622            CONTEXTOgeologicoDeBACIA   \n",
       "Pré-Cambriano - 719                                 EON   \n",
       "Pré-Cambriano - 744                                 EON   \n",
       "Pré-Cambriano - 905                                 EON   \n",
       "bacia do Paraná - 983                   baciaSEDIMENTAR   \n",
       "Paleoproterozóico - 1115                            ERA   \n",
       "mesoproterozoicos - 1118                            eon   \n",
       "neoproterozoicos - 1121                             eon   \n",
       "Neoproterozoico - 1167                              ERA   \n",
       "Arqueana - 1258                                     eon   \n",
       "Paleoproterozóico - 1264                            ERA   \n",
       "Neoproterozoico - 1266                              eon   \n",
       "fanerozoico - 1339                                  eon   \n",
       "Bacia do Paraná - 1360                  baciaSEDIMENTAR   \n",
       "Bacia do Paraná - 1390                  baciaSEDIMENTAR   \n",
       "Formação Serra Geral - 1460       unidadeESTRATIGRAFICA   \n",
       "Cretáceo - 1473                                 PERIODO   \n",
       "Formação Tinguis - 1489           unidadeESTRATIGRAFICA   \n",
       "Cenozoico - 1491                                    era   \n",
       "Bacia do Paraná - 1605                  baciaSEDIMENTAR   \n",
       "Bacia do Paraná - 1665                  baciaSEDIMENTAR   \n",
       "Bacia do Paraná - 1677                  baciaSEDIMENTAR   \n",
       "Bacia do Paraná - 1741                  baciaSEDIMENTAR   \n",
       "Bacia do Paraná - 2912                  baciaSEDIMENTAR   \n",
       "Bacia do Paraná - 3448                  baciaSEDIMENTAR   \n",
       "Grupo Passa Dois - 3590           unidadeESTRATIGRAFICA   \n",
       "falhamentos - 3593             CONTEXTOgeologicoDeBACIA   \n",
       "cisalhamento - 3799            CONTEXTOgeologicoDeBACIA   \n",
       "Mesozoico - 3945                                    ERA   \n",
       "Pré-Cambriano - 3986                                EON   \n",
       "Bacia do Paraná - 3997                  baciaSEDIMENTAR   \n",
       "pré-cambrianas - 4095                               eon   \n",
       "Bacia do Paraná - 4131                  baciaSEDIMENTAR   \n",
       "Bacia do Paraná - 4196                  baciaSEDIMENTAR   \n",
       "Bacia do Paraná - 4353                  baciaSEDIMENTAR   \n",
       "transcorrência - 4439          CONTEXTOgeologicoDeBACIA   \n",
       "Bacia do Paraná - 4597                  baciaSEDIMENTAR   \n",
       "Bacia do Paraná - 4654                  baciaSEDIMENTAR   \n",
       "\n",
       "                                                      2  \n",
       "neoproterozoicas - 41                               era  \n",
       "Bacia do Paraná - 54                    baciaSEDIMENTAR  \n",
       "Fanerozoico - 58                                    EON  \n",
       "Bacia do Paraná - 168                   baciaSEDIMENTAR  \n",
       "fanerozoicas - 326                                  eon  \n",
       "Bacia do Paraná - 330                   baciaSEDIMENTAR  \n",
       "Pré-Cambriano - 402                                 eon  \n",
       "Bacia do Paraná - 408                   baciaSEDIMENTAR  \n",
       "pré-cambriano - 428                                 eon  \n",
       "transcorrentes destrais - 545  CONTEXTOgeologicoDeBACIA  \n",
       "neoproterozoica - 556                               era  \n",
       "Bacia do Paraná - 606                   baciaSEDIMENTAR  \n",
       "transcorrente - 622            CONTEXTOgeologicoDeBACIA  \n",
       "Pré-Cambriano - 719                                 EON  \n",
       "Pré-Cambriano - 744                                 EON  \n",
       "Pré-Cambriano - 905                                 EON  \n",
       "bacia do Paraná - 983                   baciaSEDIMENTAR  \n",
       "Paleoproterozóico - 1115                            ERA  \n",
       "mesoproterozoicos - 1118                            era  \n",
       "neoproterozoicos - 1121                             era  \n",
       "Neoproterozoico - 1167                              ERA  \n",
       "Arqueana - 1258                                     eon  \n",
       "Paleoproterozóico - 1264                            ERA  \n",
       "Neoproterozoico - 1266                              era  \n",
       "fanerozoico - 1339                                  eon  \n",
       "Bacia do Paraná - 1360                  baciaSEDIMENTAR  \n",
       "Bacia do Paraná - 1390                  baciaSEDIMENTAR  \n",
       "Formação Serra Geral - 1460       unidadeESTRATIGRAFICA  \n",
       "Cretáceo - 1473                                 PERIODO  \n",
       "Formação Tinguis - 1489           unidadeESTRATIGRAFICA  \n",
       "Cenozoico - 1491                                    era  \n",
       "Bacia do Paraná - 1605                  baciaSEDIMENTAR  \n",
       "Bacia do Paraná - 1665                  baciaSEDIMENTAR  \n",
       "Bacia do Paraná - 1677                  baciaSEDIMENTAR  \n",
       "Bacia do Paraná - 1741                  baciaSEDIMENTAR  \n",
       "Bacia do Paraná - 2912                  baciaSEDIMENTAR  \n",
       "Bacia do Paraná - 3448                  baciaSEDIMENTAR  \n",
       "Grupo Passa Dois - 3590           unidadeESTRATIGRAFICA  \n",
       "falhamentos - 3593             CONTEXTOgeologicoDeBACIA  \n",
       "cisalhamento - 3799            CONTEXTOgeologicoDeBACIA  \n",
       "Mesozoico - 3945                                    ERA  \n",
       "Pré-Cambriano - 3986                                EON  \n",
       "Bacia do Paraná - 3997                  baciaSEDIMENTAR  \n",
       "pré-cambrianas - 4095                               eon  \n",
       "Bacia do Paraná - 4131                  baciaSEDIMENTAR  \n",
       "Bacia do Paraná - 4196                  baciaSEDIMENTAR  \n",
       "Bacia do Paraná - 4353                  baciaSEDIMENTAR  \n",
       "transcorrência - 4439          CONTEXTOgeologicoDeBACIA  \n",
       "Bacia do Paraná - 4597                  baciaSEDIMENTAR  \n",
       "Bacia do Paraná - 4654                  baciaSEDIMENTAR  "
      ]
     },
     "execution_count": 9,
     "metadata": {},
     "output_type": "execute_result"
    }
   ],
   "source": [
    "all_3 = kappa_pd[(kappa_pd[0]!=\"\") & (kappa_pd[1]!=\"\") & (kappa_pd[2]!=\"\")]\n",
    "print(all_3.shape)\n",
    "all_3"
   ]
  },
  {
   "cell_type": "markdown",
   "metadata": {
    "deletable": true,
    "editable": true
   },
   "source": [
    "### Montagem da Tabela para o Kappa"
   ]
  },
  {
   "cell_type": "code",
   "execution_count": 43,
   "metadata": {
    "collapsed": false,
    "deletable": true,
    "editable": true
   },
   "outputs": [
    {
     "name": "stdout",
     "output_type": "stream",
     "text": [
      "0\n",
      "1unidadeestratigrafica\n",
      "2formacao\n",
      "3idade\n",
      "4contextogeologicodebacia\n",
      "5outro\n",
      "6baciasedimentar\n",
      "7periodo\n",
      "8era\n",
      "9eon\n"
     ]
    }
   ],
   "source": [
    "classes = set()\n",
    "\n",
    "for x in kappa_pd[0].unique():\n",
    "    classes.add(x.lower())\n",
    "    \n",
    "for x in kappa_pd[1].unique():\n",
    "    classes.add(x.lower())\n",
    "    \n",
    "for x in kappa_pd[2].unique():\n",
    "    classes.add(x.lower())\n",
    "\n",
    "class_id = 0\n",
    "for clas in classes:\n",
    "    print(str(class_id) + clas)\n",
    "    class_id += 1"
   ]
  },
  {
   "cell_type": "code",
   "execution_count": 44,
   "metadata": {
    "collapsed": false,
    "deletable": true,
    "editable": true,
    "scrolled": true
   },
   "outputs": [
    {
     "data": {
      "text/plain": [
       "[[1, 0, 0, 0, 2, 0, 0, 0, 0, 0],\n",
       " [0, 0, 0, 0, 0, 0, 0, 0, 2, 1],\n",
       " [0, 0, 0, 0, 0, 0, 3, 0, 0, 0],\n",
       " [0, 0, 0, 0, 0, 0, 0, 0, 0, 3],\n",
       " [1, 0, 0, 0, 2, 0, 0, 0, 0, 0],\n",
       " [1, 0, 0, 0, 2, 0, 0, 0, 0, 0],\n",
       " [0, 0, 0, 0, 0, 0, 3, 0, 0, 0],\n",
       " [1, 0, 0, 0, 2, 0, 0, 0, 0, 0],\n",
       " [1, 0, 0, 0, 2, 0, 0, 0, 0, 0],\n",
       " [0, 0, 0, 0, 0, 0, 0, 0, 0, 3]]"
      ]
     },
     "execution_count": 44,
     "metadata": {},
     "output_type": "execute_result"
    }
   ],
   "source": [
    "w, h = len(classes), len(kappa_pd);\n",
    "kappa_table = [[0 for x in range(w)] for y in range(h)] \n",
    "\n",
    "row_id = 0\n",
    "for index, row in kappa_pd.iterrows():\n",
    "    class_id = 0\n",
    "    #print(row)\n",
    "    for clas in classes:\n",
    "        #print(str(class_id) + clas)\n",
    "        if row[0].lower() == clas:\n",
    "            kappa_table[row_id][class_id] += 1\n",
    "        if row[1].lower() == clas:\n",
    "            kappa_table[row_id][class_id] += 1\n",
    "        if row[2].lower() == clas:\n",
    "            kappa_table[row_id][class_id] += 1\n",
    "        class_id += 1\n",
    "    row_id += 1\n",
    "    #break\n",
    "            \n",
    "kappa_table[:10] #sample 10"
   ]
  },
  {
   "cell_type": "code",
   "execution_count": 23,
   "metadata": {
    "collapsed": false,
    "deletable": true,
    "editable": true
   },
   "outputs": [
    {
     "data": {
      "text/plain": [
       "0.15955482017731867"
      ]
     },
     "execution_count": 23,
     "metadata": {},
     "output_type": "execute_result"
    }
   ],
   "source": [
    "from statsmodels.stats.inter_rater import fleiss_kappa\n",
    "fleiss_kappa(kappa_table)"
   ]
  },
  {
   "cell_type": "markdown",
   "metadata": {
    "deletable": true,
    "editable": true
   },
   "source": [
    "### Cálculo do Fleiss Kappa manualmente"
   ]
  },
  {
   "cell_type": "code",
   "execution_count": 9,
   "metadata": {
    "collapsed": false,
    "deletable": true,
    "editable": true
   },
   "outputs": [
    {
     "name": "stdout",
     "output_type": "stream",
     "text": [
      "[1, 0, 0, 0, 2, 0, 0, 0, 0, 0]\n",
      "0.3333333333333333\n",
      "[0, 0, 0, 0, 0, 0, 0, 0, 2, 1]\n",
      "0.3333333333333333\n",
      "[0, 0, 0, 0, 0, 0, 3, 0, 0, 0]\n",
      "1.0\n",
      "[0, 0, 0, 0, 0, 0, 0, 0, 0, 3]\n",
      "1.0\n",
      "[1, 0, 0, 0, 2, 0, 0, 0, 0, 0]\n",
      "0.3333333333333333\n",
      "[1, 0, 0, 0, 2, 0, 0, 0, 0, 0]\n",
      "0.3333333333333333\n",
      "[0, 0, 0, 0, 0, 0, 3, 0, 0, 0]\n",
      "1.0\n",
      "[1, 0, 0, 0, 2, 0, 0, 0, 0, 0]\n",
      "0.3333333333333333\n",
      "[1, 0, 0, 0, 2, 0, 0, 0, 0, 0]\n",
      "0.3333333333333333\n",
      "[0, 0, 0, 0, 0, 0, 0, 0, 0, 3]\n",
      "1.0\n",
      "[0, 0, 0, 0, 0, 0, 3, 0, 0, 0]\n",
      "1.0\n",
      "[0, 0, 0, 0, 0, 0, 0, 0, 0, 3]\n",
      "1.0\n",
      "[0, 0, 0, 0, 0, 0, 3, 0, 0, 0]\n",
      "1.0\n",
      "[0, 0, 0, 0, 0, 0, 0, 0, 0, 3]\n",
      "1.0\n"
     ]
    }
   ],
   "source": [
    "NC = 3 * len(kappa_table)\n",
    "\n",
    "Z = 0 \n",
    "for vec in kappa_table:\n",
    "    S = 0\n",
    "    for clas in vec:\n",
    "        S += (clas * (clas - 1))\n",
    "    S = (1 / (3 * (3 - 1))) * S\n",
    "    if Z < 10: # sample\n",
    "        print(vec)\n",
    "        print(S)\n",
    "    Z += S"
   ]
  },
  {
   "cell_type": "code",
   "execution_count": 10,
   "metadata": {
    "collapsed": false,
    "deletable": true,
    "editable": true
   },
   "outputs": [
    {
     "data": {
      "text/plain": [
       "0.43006993006992733"
      ]
     },
     "execution_count": 10,
     "metadata": {},
     "output_type": "execute_result"
    }
   ],
   "source": [
    "PA = Z / len(kappa_table)\n",
    "PA"
   ]
  },
  {
   "cell_type": "code",
   "execution_count": 11,
   "metadata": {
    "collapsed": false,
    "deletable": true,
    "editable": true
   },
   "outputs": [
    {
     "data": {
      "text/plain": [
       "858"
      ]
     },
     "execution_count": 11,
     "metadata": {},
     "output_type": "execute_result"
    }
   ],
   "source": [
    "NC = 3 * len(kappa_table)\n",
    "NC"
   ]
  },
  {
   "cell_type": "code",
   "execution_count": 12,
   "metadata": {
    "collapsed": false,
    "deletable": true,
    "editable": true
   },
   "outputs": [
    {
     "data": {
      "text/plain": [
       "0    417\n",
       "1     30\n",
       "2      1\n",
       "3      2\n",
       "4    233\n",
       "5     42\n",
       "6     61\n",
       "7      5\n",
       "8     26\n",
       "9     41\n",
       "dtype: int64"
      ]
     },
     "execution_count": 12,
     "metadata": {},
     "output_type": "execute_result"
    }
   ],
   "source": [
    "class_sum = pd.DataFrame(data=kappa_table).sum(axis=0)\n",
    "class_sum"
   ]
  },
  {
   "cell_type": "code",
   "execution_count": 13,
   "metadata": {
    "collapsed": false,
    "deletable": true,
    "editable": true
   },
   "outputs": [
    {
     "name": "stdout",
     "output_type": "stream",
     "text": [
      "417/858\n",
      "30/858\n",
      "1/858\n",
      "2/858\n",
      "233/858\n",
      "42/858\n",
      "61/858\n",
      "5/858\n",
      "26/858\n",
      "41/858\n"
     ]
    },
    {
     "data": {
      "text/plain": [
       "0.32187121347960507"
      ]
     },
     "execution_count": 13,
     "metadata": {},
     "output_type": "execute_result"
    }
   ],
   "source": [
    "PE = 0\n",
    "for clas in class_sum:\n",
    "    print(str(clas) + \"/\" +str(NC))\n",
    "    PE += (clas/NC) * (clas/NC)\n",
    "PE"
   ]
  },
  {
   "cell_type": "code",
   "execution_count": 14,
   "metadata": {
    "collapsed": false,
    "deletable": true,
    "editable": true
   },
   "outputs": [
    {
     "data": {
      "text/plain": [
       "0.15955482017731473"
      ]
     },
     "execution_count": 14,
     "metadata": {},
     "output_type": "execute_result"
    }
   ],
   "source": [
    "K = (PA - PE) / (1 - PE)\n",
    "K"
   ]
  },
  {
   "cell_type": "markdown",
   "metadata": {
    "collapsed": true,
    "deletable": true,
    "editable": true
   },
   "source": [
    "### Calculo Kappa de Identificação"
   ]
  },
  {
   "cell_type": "code",
   "execution_count": 28,
   "metadata": {
    "collapsed": false,
    "deletable": true,
    "editable": true
   },
   "outputs": [
    {
     "data": {
      "text/plain": [
       "[[1, 2],\n",
       " [0, 3],\n",
       " [0, 3],\n",
       " [0, 3],\n",
       " [1, 2],\n",
       " [1, 2],\n",
       " [0, 3],\n",
       " [1, 2],\n",
       " [1, 2],\n",
       " [0, 3]]"
      ]
     },
     "execution_count": 28,
     "metadata": {},
     "output_type": "execute_result"
    }
   ],
   "source": [
    "w, h = 2, len(kappa_pd);\n",
    "kappa_id_table = [[0 for x in range(w)] for y in range(h)]\n",
    "\n",
    "row_id = 0\n",
    "for index, row in kappa_pd.iterrows():\n",
    "    class_id = 0\n",
    "    for clas in classes:\n",
    "        if row[0].lower() == clas:\n",
    "            kappa_id_table[row_id][class_id] += 1\n",
    "        if row[1].lower() == clas:\n",
    "            kappa_id_table[row_id][class_id] += 1\n",
    "        if row[2].lower() == clas:\n",
    "            kappa_id_table[row_id][class_id] += 1\n",
    "        if class_id == 0:\n",
    "            class_id += 1\n",
    "    row_id += 1\n",
    "    \n",
    "kappa_id_table[:10]"
   ]
  },
  {
   "cell_type": "code",
   "execution_count": 24,
   "metadata": {
    "collapsed": false,
    "deletable": true,
    "editable": true
   },
   "outputs": [
    {
     "data": {
      "text/plain": [
       "-0.10109463449648438"
      ]
     },
     "execution_count": 24,
     "metadata": {},
     "output_type": "execute_result"
    }
   ],
   "source": [
    "fleiss_kappa(kappa_id_table)"
   ]
  },
  {
   "cell_type": "markdown",
   "metadata": {
    "deletable": true,
    "editable": true
   },
   "source": [
    "### Calculo Kappa da Classificação"
   ]
  },
  {
   "cell_type": "code",
   "execution_count": 48,
   "metadata": {
    "collapsed": false,
    "deletable": true,
    "editable": true
   },
   "outputs": [
    {
     "name": "stdout",
     "output_type": "stream",
     "text": [
      "(286, 10)\n",
      "\n",
      "0\n",
      "(50, 9)\n",
      "0.891120251633\n",
      "\n",
      "1unidadeestratigrafica\n",
      "(261, 9)\n",
      "0.15875780816\n",
      "\n",
      "2formacao\n",
      "(285, 9)\n",
      "0.157442856218\n",
      "\n",
      "3idade\n",
      "(284, 9)\n",
      "0.160596248461\n",
      "\n",
      "4contextogeologicodebacia\n",
      "(110, 9)\n",
      "0.436501954873\n",
      "\n",
      "5outro\n",
      "(245, 9)\n",
      "0.187080785571\n",
      "\n",
      "6baciasedimentar\n",
      "(265, 9)\n",
      "0.0331993207811\n",
      "\n",
      "7periodo\n",
      "(284, 9)\n",
      "0.152891313402\n",
      "\n",
      "8era\n",
      "(275, 9)\n",
      "0.118795440266\n",
      "\n",
      "9eon\n",
      "(268, 9)\n",
      "0.077834400453\n"
     ]
    }
   ],
   "source": [
    "kappa_class_table = pd.DataFrame(data=kappa_table)\n",
    "\n",
    "print(kappa_class_table.shape)\n",
    "\n",
    "class_id = 0\n",
    "for clas in classes:\n",
    "    print(\"\")\n",
    "    print(str(class_id) + clas)\n",
    "    kappa_class_table = kappa_class_table[kappa_class_table[class_id]==0]\n",
    "    kappa_class_table.drop(kappa_class_table.columns[class_id],inplace=True,axis=1)\n",
    "    print(kappa_class_table.shape)\n",
    "    print(fleiss_kappa(kappa_class_table.as_matrix()))\n",
    "    kappa_class_table = pd.DataFrame(data=kappa_table)\n",
    "    class_id += 1"
   ]
  },
  {
   "cell_type": "code",
   "execution_count": null,
   "metadata": {
    "collapsed": true,
    "deletable": true,
    "editable": true
   },
   "outputs": [],
   "source": []
  }
 ],
 "metadata": {
  "kernelspec": {
   "display_name": "Python 3",
   "language": "python",
   "name": "python3"
  },
  "language_info": {
   "codemirror_mode": {
    "name": "ipython",
    "version": 3
   },
   "file_extension": ".py",
   "mimetype": "text/x-python",
   "name": "python",
   "nbconvert_exporter": "python",
   "pygments_lexer": "ipython3",
   "version": "3.5.2"
  }
 },
 "nbformat": 4,
 "nbformat_minor": 2
}
