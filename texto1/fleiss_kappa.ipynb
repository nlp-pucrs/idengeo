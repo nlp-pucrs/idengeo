{
 "cells": [
  {
   "cell_type": "markdown",
   "metadata": {},
   "source": [
    "### Monta Tabela de Anotação"
   ]
  },
  {
   "cell_type": "code",
   "execution_count": 11,
   "metadata": {
    "collapsed": false,
    "deletable": true,
    "editable": true,
    "scrolled": true
   },
   "outputs": [
    {
     "name": "stdout",
     "output_type": "stream",
     "text": [
      "286\n"
     ]
    },
    {
     "data": {
      "text/html": [
       "<div>\n",
       "<table border=\"1\" class=\"dataframe\">\n",
       "  <thead>\n",
       "    <tr style=\"text-align: right;\">\n",
       "      <th></th>\n",
       "      <th>0</th>\n",
       "      <th>1</th>\n",
       "      <th>2</th>\n",
       "    </tr>\n",
       "  </thead>\n",
       "  <tbody>\n",
       "    <tr>\n",
       "      <th>falhas transcorrentes - 902</th>\n",
       "      <td>CONTEXTOgeologicoDeBACIA</td>\n",
       "      <td></td>\n",
       "      <td>CONTEXTOgeologicoDeBACIA</td>\n",
       "    </tr>\n",
       "    <tr>\n",
       "      <th>Setuva - 813</th>\n",
       "      <td></td>\n",
       "      <td>CONTEXTOgeologicoDeBACIA</td>\n",
       "      <td></td>\n",
       "    </tr>\n",
       "    <tr>\n",
       "      <th>diques - 2347</th>\n",
       "      <td></td>\n",
       "      <td></td>\n",
       "      <td>outro</td>\n",
       "    </tr>\n",
       "    <tr>\n",
       "      <th>Tranqueira - 817</th>\n",
       "      <td></td>\n",
       "      <td>CONTEXTOgeologicoDeBACIA</td>\n",
       "      <td></td>\n",
       "    </tr>\n",
       "    <tr>\n",
       "      <th>pré-cambrianas - 4095</th>\n",
       "      <td>eon</td>\n",
       "      <td>eon</td>\n",
       "      <td>eon</td>\n",
       "    </tr>\n",
       "    <tr>\n",
       "      <th>convergência intercontinental - 966</th>\n",
       "      <td></td>\n",
       "      <td></td>\n",
       "      <td>CONTEXTOgeologicoDeBACIA</td>\n",
       "    </tr>\n",
       "    <tr>\n",
       "      <th>534 ± 16 Ma - 1080</th>\n",
       "      <td></td>\n",
       "      <td></td>\n",
       "      <td>idade</td>\n",
       "    </tr>\n",
       "    <tr>\n",
       "      <th>planos de falha - 1444</th>\n",
       "      <td></td>\n",
       "      <td></td>\n",
       "      <td>CONTEXTOgeologicoDeBACIA</td>\n",
       "    </tr>\n",
       "    <tr>\n",
       "      <th>Cisalhamento - 3475</th>\n",
       "      <td></td>\n",
       "      <td>CONTEXTOgeologicoDeBACIA</td>\n",
       "      <td></td>\n",
       "    </tr>\n",
       "    <tr>\n",
       "      <th>cisalhamento - 4489</th>\n",
       "      <td></td>\n",
       "      <td>CONTEXTOgeologicoDeBACIA</td>\n",
       "      <td></td>\n",
       "    </tr>\n",
       "  </tbody>\n",
       "</table>\n",
       "</div>"
      ],
      "text/plain": [
       "                                                            0  \\\n",
       "falhas transcorrentes - 902          CONTEXTOgeologicoDeBACIA   \n",
       "Setuva - 813                                                    \n",
       "diques - 2347                                                   \n",
       "Tranqueira - 817                                                \n",
       "pré-cambrianas - 4095                                     eon   \n",
       "convergência intercontinental - 966                             \n",
       "534 ± 16 Ma - 1080                                              \n",
       "planos de falha - 1444                                          \n",
       "Cisalhamento - 3475                                             \n",
       "cisalhamento - 4489                                             \n",
       "\n",
       "                                                            1  \\\n",
       "falhas transcorrentes - 902                                     \n",
       "Setuva - 813                         CONTEXTOgeologicoDeBACIA   \n",
       "diques - 2347                                                   \n",
       "Tranqueira - 817                     CONTEXTOgeologicoDeBACIA   \n",
       "pré-cambrianas - 4095                                     eon   \n",
       "convergência intercontinental - 966                             \n",
       "534 ± 16 Ma - 1080                                              \n",
       "planos de falha - 1444                                          \n",
       "Cisalhamento - 3475                  CONTEXTOgeologicoDeBACIA   \n",
       "cisalhamento - 4489                  CONTEXTOgeologicoDeBACIA   \n",
       "\n",
       "                                                            2  \n",
       "falhas transcorrentes - 902          CONTEXTOgeologicoDeBACIA  \n",
       "Setuva - 813                                                   \n",
       "diques - 2347                                           outro  \n",
       "Tranqueira - 817                                               \n",
       "pré-cambrianas - 4095                                     eon  \n",
       "convergência intercontinental - 966  CONTEXTOgeologicoDeBACIA  \n",
       "534 ± 16 Ma - 1080                                      idade  \n",
       "planos de falha - 1444               CONTEXTOgeologicoDeBACIA  \n",
       "Cisalhamento - 3475                                            \n",
       "cisalhamento - 4489                                            "
      ]
     },
     "execution_count": 11,
     "metadata": {},
     "output_type": "execute_result"
    }
   ],
   "source": [
    "import collections\n",
    "import re\n",
    "import pandas as pd\n",
    "\n",
    "dictF = collections.OrderedDict()\n",
    "anotador = 0\n",
    "cont = 1\n",
    "str1 = \"\"\n",
    "\n",
    "for filename in ['Clear_01_1_ISO_Andressa_Bressani.xml','Clear_01_1_ISO_Eric_Eltz.xml', 'Clear_01_1_ISO_Keli_Schell.xml' ]:\n",
    "    \n",
    "    with open(filename,'r') as file:\n",
    "        cont = 1\n",
    "        for line in file:\n",
    "\n",
    "            if line.find(\"EM-ID\") >= 0 and line.find(\"/EM\") >= 0:\n",
    "                str1 = re.findall('(?<=>).*?(?=<)', line)[0] + \" - \" + str(cont)\n",
    "                categoria = re.findall('(?<=CATEG=\").*?(?=\")', line)[0]\n",
    "                #print(str1)\n",
    "                if str1 in dictF:\n",
    "                    dictF[str1][anotador] = categoria\n",
    "                else:\n",
    "                    dictF[str1] = ['','','']\n",
    "                    dictF[str1][anotador] = categoria\n",
    "            \n",
    "            elif line.find(\"EM-ID\") >= 0:\n",
    "                str1 = re.findall('(?<=>).*?(?=$)', line)[0]\n",
    "                str1 = str1.replace(\"\\n\", \"\")\n",
    "                categoria = re.findall('(?<=CATEG=\").*?(?=\")', line)[0]\n",
    "            \n",
    "            elif line.find(\"/EM\") >= 0:\n",
    "                str1 = str1 + \" \" + re.findall('(?<=^).*?(?=<)', line)[0] + \" - \" + str(cont)\n",
    "                str1 = str1.replace(\"\\n\", \"\")\n",
    "                if str1 in dictF:\n",
    "                    dictF[str1][anotador] = categoria\n",
    "                else:\n",
    "                    dictF[str1] = ['','','']\n",
    "                    dictF[str1][anotador] = categoria\n",
    "                str1 = \"\"\n",
    "            \n",
    "            else:\n",
    "                str1 = str1 + \" \" + line\n",
    "                \n",
    "            cont += 1\n",
    "        \n",
    "    anotador += 1\n",
    "    \n",
    "print(len(dictF))\n",
    "    \n",
    "kappa_pd = pd.DataFrame.from_dict(dictF,orient='index')\n",
    "kappa_pd.sample(10)"
   ]
  },
  {
   "cell_type": "markdown",
   "metadata": {},
   "source": [
    "### Montagem da Tabela para o Kappa"
   ]
  },
  {
   "cell_type": "code",
   "execution_count": 2,
   "metadata": {
    "collapsed": false,
    "deletable": true,
    "editable": true
   },
   "outputs": [
    {
     "data": {
      "text/plain": [
       "{'',\n",
       " 'baciasedimentar',\n",
       " 'contextogeologicodebacia',\n",
       " 'eon',\n",
       " 'era',\n",
       " 'formacao',\n",
       " 'idade',\n",
       " 'outro',\n",
       " 'periodo',\n",
       " 'unidadeestratigrafica'}"
      ]
     },
     "execution_count": 2,
     "metadata": {},
     "output_type": "execute_result"
    }
   ],
   "source": [
    "classes = set()\n",
    "\n",
    "for x in kappa_pd[0].unique():\n",
    "    classes.add(x.lower())\n",
    "    \n",
    "for x in kappa_pd[1].unique():\n",
    "    classes.add(x.lower())\n",
    "    \n",
    "for x in kappa_pd[2].unique():\n",
    "    classes.add(x.lower())\n",
    "\n",
    "classes"
   ]
  },
  {
   "cell_type": "code",
   "execution_count": 16,
   "metadata": {
    "collapsed": false,
    "deletable": true,
    "editable": true,
    "scrolled": true
   },
   "outputs": [
    {
     "data": {
      "text/plain": [
       "[[1, 2, 0, 0, 0, 0, 0, 0, 0, 0],\n",
       " [0, 0, 2, 0, 0, 0, 0, 0, 0, 1],\n",
       " [0, 0, 0, 0, 0, 0, 0, 0, 3, 0],\n",
       " [0, 0, 0, 0, 0, 0, 0, 0, 0, 3],\n",
       " [1, 2, 0, 0, 0, 0, 0, 0, 0, 0],\n",
       " [1, 2, 0, 0, 0, 0, 0, 0, 0, 0],\n",
       " [0, 0, 0, 0, 0, 0, 0, 0, 3, 0],\n",
       " [1, 2, 0, 0, 0, 0, 0, 0, 0, 0],\n",
       " [1, 2, 0, 0, 0, 0, 0, 0, 0, 0],\n",
       " [0, 0, 0, 0, 0, 0, 0, 0, 0, 3]]"
      ]
     },
     "execution_count": 16,
     "metadata": {},
     "output_type": "execute_result"
    }
   ],
   "source": [
    "w, h = len(classes), len(kappa_pd);\n",
    "kappa_table = [[0 for x in range(w)] for y in range(h)] \n",
    "\n",
    "row_id = 0\n",
    "for index, row in kappa_pd.iterrows():\n",
    "    class_id = 0\n",
    "    for clas in classes:\n",
    "        if row[0].lower() == clas:\n",
    "            kappa_table[row_id][class_id] += 1\n",
    "        if row[1].lower() == clas:\n",
    "            kappa_table[row_id][class_id] += 1\n",
    "        if row[2].lower() == clas:\n",
    "            kappa_table[row_id][class_id] += 1\n",
    "        class_id += 1\n",
    "    row_id += 1\n",
    "            \n",
    "kappa_table[:10] #sample 10"
   ]
  },
  {
   "cell_type": "code",
   "execution_count": 4,
   "metadata": {
    "collapsed": false,
    "deletable": true,
    "editable": true
   },
   "outputs": [
    {
     "data": {
      "text/plain": [
       "0.15955482017731876"
      ]
     },
     "execution_count": 4,
     "metadata": {},
     "output_type": "execute_result"
    }
   ],
   "source": [
    "from statsmodels.stats.inter_rater import fleiss_kappa\n",
    "fleiss_kappa(kappa_table)"
   ]
  },
  {
   "cell_type": "markdown",
   "metadata": {},
   "source": [
    "### Cálculo do Fleiss Kappa manualmente"
   ]
  },
  {
   "cell_type": "code",
   "execution_count": 18,
   "metadata": {
    "collapsed": false,
    "deletable": true,
    "editable": true
   },
   "outputs": [
    {
     "name": "stdout",
     "output_type": "stream",
     "text": [
      "[1, 2, 0, 0, 0, 0, 0, 0, 0, 0]\n",
      "0.3333333333333333\n",
      "[0, 0, 2, 0, 0, 0, 0, 0, 0, 1]\n",
      "0.3333333333333333\n",
      "[0, 0, 0, 0, 0, 0, 0, 0, 3, 0]\n",
      "1.0\n",
      "[0, 0, 0, 0, 0, 0, 0, 0, 0, 3]\n",
      "1.0\n",
      "[1, 2, 0, 0, 0, 0, 0, 0, 0, 0]\n",
      "0.3333333333333333\n",
      "[1, 2, 0, 0, 0, 0, 0, 0, 0, 0]\n",
      "0.3333333333333333\n",
      "[0, 0, 0, 0, 0, 0, 0, 0, 3, 0]\n",
      "1.0\n",
      "[1, 2, 0, 0, 0, 0, 0, 0, 0, 0]\n",
      "0.3333333333333333\n",
      "[1, 2, 0, 0, 0, 0, 0, 0, 0, 0]\n",
      "0.3333333333333333\n",
      "[0, 0, 0, 0, 0, 0, 0, 0, 0, 3]\n",
      "1.0\n",
      "[0, 0, 0, 0, 0, 0, 0, 0, 3, 0]\n",
      "1.0\n",
      "[0, 0, 0, 0, 0, 0, 0, 0, 0, 3]\n",
      "1.0\n",
      "[0, 0, 0, 0, 0, 0, 0, 0, 3, 0]\n",
      "1.0\n",
      "[0, 0, 0, 0, 0, 0, 0, 0, 0, 3]\n",
      "1.0\n"
     ]
    }
   ],
   "source": [
    "NC = 3 * len(kappa_table)\n",
    "\n",
    "Z = 0 \n",
    "for vec in kappa_table:\n",
    "    S = 0\n",
    "    for clas in vec:\n",
    "        S += (clas * (clas - 1))\n",
    "    S = (1 / (3 * (3 - 1))) * S\n",
    "    if Z < 10: # sample\n",
    "        print(vec)\n",
    "        print(S)\n",
    "    Z += S"
   ]
  },
  {
   "cell_type": "code",
   "execution_count": 6,
   "metadata": {
    "collapsed": false,
    "deletable": true,
    "editable": true
   },
   "outputs": [
    {
     "data": {
      "text/plain": [
       "0.43006993006992733"
      ]
     },
     "execution_count": 6,
     "metadata": {},
     "output_type": "execute_result"
    }
   ],
   "source": [
    "PA = Z / len(kappa_table)\n",
    "PA"
   ]
  },
  {
   "cell_type": "code",
   "execution_count": 7,
   "metadata": {
    "collapsed": false,
    "deletable": true,
    "editable": true
   },
   "outputs": [
    {
     "data": {
      "text/plain": [
       "858"
      ]
     },
     "execution_count": 7,
     "metadata": {},
     "output_type": "execute_result"
    }
   ],
   "source": [
    "NC = 3 * len(kappa_table)\n",
    "NC"
   ]
  },
  {
   "cell_type": "code",
   "execution_count": 8,
   "metadata": {
    "collapsed": false,
    "deletable": true,
    "editable": true
   },
   "outputs": [
    {
     "data": {
      "text/plain": [
       "0    417\n",
       "1    233\n",
       "2     26\n",
       "3      1\n",
       "4      2\n",
       "5      5\n",
       "6     30\n",
       "7     42\n",
       "8     61\n",
       "9     41\n",
       "dtype: int64"
      ]
     },
     "execution_count": 8,
     "metadata": {},
     "output_type": "execute_result"
    }
   ],
   "source": [
    "class_sum = pd.DataFrame(data=kappa_table).sum(axis=0)\n",
    "class_sum"
   ]
  },
  {
   "cell_type": "code",
   "execution_count": 9,
   "metadata": {
    "collapsed": false,
    "deletable": true,
    "editable": true
   },
   "outputs": [
    {
     "name": "stdout",
     "output_type": "stream",
     "text": [
      "417/858\n",
      "233/858\n",
      "26/858\n",
      "1/858\n",
      "2/858\n",
      "5/858\n",
      "30/858\n",
      "42/858\n",
      "61/858\n",
      "41/858\n"
     ]
    },
    {
     "data": {
      "text/plain": [
       "0.32187121347960507"
      ]
     },
     "execution_count": 9,
     "metadata": {},
     "output_type": "execute_result"
    }
   ],
   "source": [
    "PE = 0\n",
    "for clas in class_sum:\n",
    "    print(str(clas) + \"/\" +str(NC))\n",
    "    PE += (clas/NC) * (clas/NC)\n",
    "PE"
   ]
  },
  {
   "cell_type": "code",
   "execution_count": 10,
   "metadata": {
    "collapsed": false,
    "deletable": true,
    "editable": true
   },
   "outputs": [
    {
     "data": {
      "text/plain": [
       "0.15955482017731473"
      ]
     },
     "execution_count": 10,
     "metadata": {},
     "output_type": "execute_result"
    }
   ],
   "source": [
    "K = (PA - PE) / (1 - PE)\n",
    "K"
   ]
  },
  {
   "cell_type": "markdown",
   "metadata": {
    "collapsed": true,
    "deletable": true,
    "editable": true
   },
   "source": [
    "### Calculo Kappa de Identificação"
   ]
  },
  {
   "cell_type": "code",
   "execution_count": 23,
   "metadata": {
    "collapsed": false
   },
   "outputs": [
    {
     "data": {
      "text/plain": [
       "[[1, 2],\n",
       " [0, 3],\n",
       " [0, 3],\n",
       " [0, 3],\n",
       " [1, 2],\n",
       " [1, 2],\n",
       " [0, 3],\n",
       " [1, 2],\n",
       " [1, 2],\n",
       " [0, 3],\n",
       " [0, 3],\n",
       " [0, 3],\n",
       " [0, 3],\n",
       " [0, 3],\n",
       " [1, 2],\n",
       " [1, 2],\n",
       " [1, 2],\n",
       " [1, 2],\n",
       " [1, 2],\n",
       " [1, 2],\n",
       " [1, 2],\n",
       " [0, 3],\n",
       " [0, 3],\n",
       " [0, 3],\n",
       " [1, 2],\n",
       " [0, 3],\n",
       " [0, 3],\n",
       " [0, 3],\n",
       " [1, 2],\n",
       " [1, 2],\n",
       " [2, 1],\n",
       " [2, 1],\n",
       " [1, 2],\n",
       " [0, 3],\n",
       " [1, 2],\n",
       " [1, 2],\n",
       " [2, 1],\n",
       " [0, 3],\n",
       " [0, 3],\n",
       " [0, 3],\n",
       " [0, 3],\n",
       " [0, 3],\n",
       " [0, 3],\n",
       " [0, 3],\n",
       " [0, 3],\n",
       " [0, 3],\n",
       " [1, 2],\n",
       " [0, 3],\n",
       " [0, 3],\n",
       " [1, 2],\n",
       " [0, 3],\n",
       " [0, 3],\n",
       " [0, 3],\n",
       " [0, 3],\n",
       " [1, 2],\n",
       " [1, 2],\n",
       " [1, 2],\n",
       " [1, 2],\n",
       " [0, 3],\n",
       " [1, 2],\n",
       " [1, 2],\n",
       " [0, 3],\n",
       " [0, 3],\n",
       " [0, 3],\n",
       " [1, 2],\n",
       " [0, 3],\n",
       " [0, 3],\n",
       " [1, 2],\n",
       " [1, 2],\n",
       " [0, 3],\n",
       " [0, 3],\n",
       " [1, 2],\n",
       " [0, 3],\n",
       " [1, 2],\n",
       " [0, 3],\n",
       " [1, 2],\n",
       " [0, 3],\n",
       " [0, 3],\n",
       " [0, 3],\n",
       " [1, 2],\n",
       " [0, 3],\n",
       " [0, 3],\n",
       " [0, 3],\n",
       " [1, 2],\n",
       " [0, 3],\n",
       " [1, 2],\n",
       " [0, 3],\n",
       " [0, 3],\n",
       " [2, 1],\n",
       " [1, 2],\n",
       " [2, 1],\n",
       " [2, 1],\n",
       " [2, 1],\n",
       " [2, 1],\n",
       " [2, 1],\n",
       " [2, 1],\n",
       " [1, 2],\n",
       " [2, 1],\n",
       " [2, 1],\n",
       " [2, 1],\n",
       " [2, 1],\n",
       " [2, 1],\n",
       " [2, 1],\n",
       " [2, 1],\n",
       " [2, 1],\n",
       " [1, 2],\n",
       " [2, 1],\n",
       " [2, 1],\n",
       " [2, 1],\n",
       " [2, 1],\n",
       " [2, 1],\n",
       " [1, 2],\n",
       " [2, 1],\n",
       " [2, 1],\n",
       " [1, 2],\n",
       " [2, 1],\n",
       " [2, 1],\n",
       " [2, 1],\n",
       " [2, 1],\n",
       " [2, 1],\n",
       " [2, 1],\n",
       " [2, 1],\n",
       " [2, 1],\n",
       " [2, 1],\n",
       " [2, 1],\n",
       " [2, 1],\n",
       " [2, 1],\n",
       " [2, 1],\n",
       " [2, 1],\n",
       " [2, 1],\n",
       " [2, 1],\n",
       " [2, 1],\n",
       " [1, 2],\n",
       " [2, 1],\n",
       " [2, 1],\n",
       " [2, 1],\n",
       " [2, 1],\n",
       " [1, 2],\n",
       " [2, 1],\n",
       " [2, 1],\n",
       " [2, 1],\n",
       " [2, 1],\n",
       " [2, 1],\n",
       " [2, 1],\n",
       " [2, 1],\n",
       " [2, 1],\n",
       " [2, 1],\n",
       " [2, 1],\n",
       " [2, 1],\n",
       " [2, 1],\n",
       " [2, 1],\n",
       " [2, 1],\n",
       " [2, 1],\n",
       " [2, 1],\n",
       " [2, 1],\n",
       " [1, 2],\n",
       " [2, 1],\n",
       " [2, 1],\n",
       " [1, 2],\n",
       " [2, 1],\n",
       " [2, 1],\n",
       " [2, 1],\n",
       " [1, 2],\n",
       " [2, 1],\n",
       " [2, 1],\n",
       " [1, 2],\n",
       " [2, 1],\n",
       " [2, 1],\n",
       " [2, 1],\n",
       " [1, 2],\n",
       " [2, 1],\n",
       " [2, 1],\n",
       " [2, 1],\n",
       " [1, 2],\n",
       " [1, 2],\n",
       " [2, 1],\n",
       " [2, 1],\n",
       " [2, 1],\n",
       " [2, 1],\n",
       " [2, 1],\n",
       " [1, 2],\n",
       " [1, 2],\n",
       " [1, 2],\n",
       " [1, 2],\n",
       " [2, 1],\n",
       " [2, 1],\n",
       " [1, 2],\n",
       " [2, 1],\n",
       " [2, 1],\n",
       " [2, 1],\n",
       " [1, 2],\n",
       " [2, 1],\n",
       " [2, 1],\n",
       " [2, 1],\n",
       " [2, 1],\n",
       " [2, 1],\n",
       " [2, 1],\n",
       " [2, 1],\n",
       " [2, 1],\n",
       " [2, 1],\n",
       " [2, 1],\n",
       " [2, 1],\n",
       " [2, 1],\n",
       " [2, 1],\n",
       " [2, 1],\n",
       " [2, 1],\n",
       " [2, 1],\n",
       " [2, 1],\n",
       " [2, 1],\n",
       " [2, 1],\n",
       " [2, 1],\n",
       " [2, 1],\n",
       " [2, 1],\n",
       " [2, 1],\n",
       " [2, 1],\n",
       " [2, 1],\n",
       " [2, 1],\n",
       " [2, 1],\n",
       " [2, 1],\n",
       " [2, 1],\n",
       " [2, 1],\n",
       " [2, 1],\n",
       " [2, 1],\n",
       " [2, 1],\n",
       " [2, 1],\n",
       " [2, 1],\n",
       " [2, 1],\n",
       " [2, 1],\n",
       " [2, 1],\n",
       " [2, 1],\n",
       " [2, 1],\n",
       " [2, 1],\n",
       " [2, 1],\n",
       " [2, 1],\n",
       " [2, 1],\n",
       " [2, 1],\n",
       " [2, 1],\n",
       " [2, 1],\n",
       " [2, 1],\n",
       " [2, 1],\n",
       " [2, 1],\n",
       " [2, 1],\n",
       " [2, 1],\n",
       " [2, 1],\n",
       " [2, 1],\n",
       " [2, 1],\n",
       " [2, 1],\n",
       " [2, 1],\n",
       " [2, 1],\n",
       " [2, 1],\n",
       " [2, 1],\n",
       " [2, 1],\n",
       " [2, 1],\n",
       " [2, 1],\n",
       " [2, 1],\n",
       " [2, 1],\n",
       " [2, 1],\n",
       " [2, 1],\n",
       " [2, 1],\n",
       " [2, 1],\n",
       " [2, 1],\n",
       " [2, 1],\n",
       " [2, 1],\n",
       " [2, 1],\n",
       " [2, 1],\n",
       " [2, 1],\n",
       " [2, 1],\n",
       " [2, 1],\n",
       " [2, 1],\n",
       " [2, 1],\n",
       " [2, 1],\n",
       " [2, 1],\n",
       " [2, 1],\n",
       " [2, 1],\n",
       " [2, 1],\n",
       " [2, 1],\n",
       " [2, 1],\n",
       " [2, 1],\n",
       " [2, 1],\n",
       " [2, 1],\n",
       " [2, 1],\n",
       " [2, 1],\n",
       " [2, 1],\n",
       " [2, 1],\n",
       " [2, 1],\n",
       " [2, 1]]"
      ]
     },
     "execution_count": 23,
     "metadata": {},
     "output_type": "execute_result"
    }
   ],
   "source": [
    "w, h = 2, len(kappa_pd);\n",
    "kappa_id_table = [[0 for x in range(w)] for y in range(h)]\n",
    "\n",
    "row_id = 0\n",
    "for index, row in kappa_pd.iterrows():\n",
    "    class_id = 0\n",
    "    for clas in classes:\n",
    "        if row[0].lower() == clas:\n",
    "            kappa_id_table[row_id][class_id] += 1\n",
    "        if row[1].lower() == clas:\n",
    "            kappa_id_table[row_id][class_id] += 1\n",
    "        if row[2].lower() == clas:\n",
    "            kappa_id_table[row_id][class_id] += 1\n",
    "        if class_id == 0:\n",
    "            class_id += 1\n",
    "    row_id += 1\n",
    "    \n",
    "kappa_id_table"
   ]
  },
  {
   "cell_type": "code",
   "execution_count": 22,
   "metadata": {
    "collapsed": false
   },
   "outputs": [
    {
     "data": {
      "text/plain": [
       "-0.10109463449648438"
      ]
     },
     "execution_count": 22,
     "metadata": {},
     "output_type": "execute_result"
    }
   ],
   "source": [
    "fleiss_kappa(kappa_id_table)"
   ]
  },
  {
   "cell_type": "markdown",
   "metadata": {},
   "source": [
    "### Calculo Kappa da Classificação"
   ]
  },
  {
   "cell_type": "code",
   "execution_count": 39,
   "metadata": {
    "collapsed": false
   },
   "outputs": [
    {
     "data": {
      "text/plain": [
       "(50, 9)"
      ]
     },
     "execution_count": 39,
     "metadata": {},
     "output_type": "execute_result"
    }
   ],
   "source": [
    "kappa_class_table = pd.DataFrame(data=kappa_table)\n",
    "kappa_class_table = kappa_class_table[kappa_class_table[0]==0]\n",
    "kappa_class_table.drop(kappa_class_table.columns[0],inplace=True,axis=1)\n",
    "kappa_class_table.shape"
   ]
  },
  {
   "cell_type": "code",
   "execution_count": 40,
   "metadata": {
    "collapsed": false
   },
   "outputs": [
    {
     "data": {
      "text/plain": [
       "0.8911202516331963"
      ]
     },
     "execution_count": 40,
     "metadata": {},
     "output_type": "execute_result"
    }
   ],
   "source": [
    "fleiss_kappa(kappa_class_table.as_matrix())"
   ]
  },
  {
   "cell_type": "code",
   "execution_count": null,
   "metadata": {
    "collapsed": true
   },
   "outputs": [],
   "source": []
  }
 ],
 "metadata": {
  "kernelspec": {
   "display_name": "Python 3",
   "language": "python",
   "name": "python3"
  },
  "language_info": {
   "codemirror_mode": {
    "name": "ipython",
    "version": 3
   },
   "file_extension": ".py",
   "mimetype": "text/x-python",
   "name": "python",
   "nbconvert_exporter": "python",
   "pygments_lexer": "ipython3",
   "version": "3.5.2"
  }
 },
 "nbformat": 4,
 "nbformat_minor": 2
}
