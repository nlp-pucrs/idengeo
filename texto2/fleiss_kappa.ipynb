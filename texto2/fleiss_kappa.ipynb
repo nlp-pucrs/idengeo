{
 "cells": [
  {
   "cell_type": "markdown",
   "metadata": {},
   "source": [
    "### Monta Tabela de Anotação"
   ]
  },
  {
   "cell_type": "code",
   "execution_count": 1,
   "metadata": {
    "scrolled": true
   },
   "outputs": [
    {
     "data": {
      "text/html": [
       "<div>\n",
       "<style>\n",
       "    .dataframe thead tr:only-child th {\n",
       "        text-align: right;\n",
       "    }\n",
       "\n",
       "    .dataframe thead th {\n",
       "        text-align: left;\n",
       "    }\n",
       "\n",
       "    .dataframe tbody tr th {\n",
       "        vertical-align: top;\n",
       "    }\n",
       "</style>\n",
       "<table border=\"1\" class=\"dataframe\">\n",
       "  <thead>\n",
       "    <tr style=\"text-align: right;\">\n",
       "      <th></th>\n",
       "      <th>0</th>\n",
       "      <th>1</th>\n",
       "      <th>2</th>\n",
       "    </tr>\n",
       "  </thead>\n",
       "  <tbody>\n",
       "    <tr>\n",
       "      <th>estrutura sinclinal - 2176</th>\n",
       "      <td></td>\n",
       "      <td>CONTEXTOgeologicoDeBACIA</td>\n",
       "      <td></td>\n",
       "    </tr>\n",
       "    <tr>\n",
       "      <th>cinturão - 3553</th>\n",
       "      <td></td>\n",
       "      <td></td>\n",
       "      <td>CONTEXTOgeologicoDeBACIA</td>\n",
       "    </tr>\n",
       "    <tr>\n",
       "      <th>Formação Salitre - 922</th>\n",
       "      <td>unidadeESTRATIGRAFICA</td>\n",
       "      <td>unidadeESTRATIGRAFICA</td>\n",
       "      <td>unidadeESTRATIGRAFICA</td>\n",
       "    </tr>\n",
       "    <tr>\n",
       "      <th>camada - 1934</th>\n",
       "      <td></td>\n",
       "      <td></td>\n",
       "      <td>CONTEXTOgeologicoDeBACIA</td>\n",
       "    </tr>\n",
       "    <tr>\n",
       "      <th>paleoproterozoico - 749</th>\n",
       "      <td>era</td>\n",
       "      <td></td>\n",
       "      <td>era</td>\n",
       "    </tr>\n",
       "    <tr>\n",
       "      <th>dobras - 2273</th>\n",
       "      <td></td>\n",
       "      <td>CONTEXTOgeologicoDeBACIA</td>\n",
       "      <td>CONTEXTOgeologicoDeBACIA</td>\n",
       "    </tr>\n",
       "    <tr>\n",
       "      <th>substrato - 2936</th>\n",
       "      <td></td>\n",
       "      <td></td>\n",
       "      <td>CONTEXTOgeologicoDeBACIA</td>\n",
       "    </tr>\n",
       "    <tr>\n",
       "      <th>580 e 540 Ma - 4186</th>\n",
       "      <td>idade</td>\n",
       "      <td></td>\n",
       "      <td>idade</td>\n",
       "    </tr>\n",
       "    <tr>\n",
       "      <th>sucessões evaporíticas - 3242</th>\n",
       "      <td>sedimentaresQUIMICAS</td>\n",
       "      <td></td>\n",
       "      <td></td>\n",
       "    </tr>\n",
       "    <tr>\n",
       "      <th>Grupo Una - 3202</th>\n",
       "      <td>unidadeESTRATIGRAFICA</td>\n",
       "      <td>unidadeESTRATIGRAFICA</td>\n",
       "      <td>unidadeESTRATIGRAFICA</td>\n",
       "    </tr>\n",
       "  </tbody>\n",
       "</table>\n",
       "</div>"
      ],
      "text/plain": [
       "                                                   0  \\\n",
       "estrutura sinclinal - 2176                             \n",
       "cinturão - 3553                                        \n",
       "Formação Salitre - 922         unidadeESTRATIGRAFICA   \n",
       "camada - 1934                                          \n",
       "paleoproterozoico - 749                          era   \n",
       "dobras - 2273                                          \n",
       "substrato - 2936                                       \n",
       "580 e 540 Ma - 4186                            idade   \n",
       "sucessões evaporíticas - 3242   sedimentaresQUIMICAS   \n",
       "Grupo Una - 3202               unidadeESTRATIGRAFICA   \n",
       "\n",
       "                                                      1  \\\n",
       "estrutura sinclinal - 2176     CONTEXTOgeologicoDeBACIA   \n",
       "cinturão - 3553                                           \n",
       "Formação Salitre - 922            unidadeESTRATIGRAFICA   \n",
       "camada - 1934                                             \n",
       "paleoproterozoico - 749                                   \n",
       "dobras - 2273                  CONTEXTOgeologicoDeBACIA   \n",
       "substrato - 2936                                          \n",
       "580 e 540 Ma - 4186                                       \n",
       "sucessões evaporíticas - 3242                             \n",
       "Grupo Una - 3202                  unidadeESTRATIGRAFICA   \n",
       "\n",
       "                                                      2  \n",
       "estrutura sinclinal - 2176                               \n",
       "cinturão - 3553                CONTEXTOgeologicoDeBACIA  \n",
       "Formação Salitre - 922            unidadeESTRATIGRAFICA  \n",
       "camada - 1934                  CONTEXTOgeologicoDeBACIA  \n",
       "paleoproterozoico - 749                             era  \n",
       "dobras - 2273                  CONTEXTOgeologicoDeBACIA  \n",
       "substrato - 2936               CONTEXTOgeologicoDeBACIA  \n",
       "580 e 540 Ma - 4186                               idade  \n",
       "sucessões evaporíticas - 3242                            \n",
       "Grupo Una - 3202                  unidadeESTRATIGRAFICA  "
      ]
     },
     "execution_count": 1,
     "metadata": {},
     "output_type": "execute_result"
    }
   ],
   "source": [
    "import collections\n",
    "import re\n",
    "import pandas as pd\n",
    "\n",
    "dictF = collections.OrderedDict()\n",
    "anotador = 0\n",
    "cont = 1\n",
    "str1 = \"\"\n",
    "\n",
    "for filename in ['Clear_07_3_ISO_Andressa_Bressane.xml','Clear_07_3_ISO_Eric_Eltz.xml', 'Clear_07_3_ISO_Keli_Schell.xml' ]:\n",
    "    \n",
    "    with open(filename,'r') as file:\n",
    "        cont = 1\n",
    "        for line in file:\n",
    "\n",
    "            if line.find(\"EM-ID\") >= 0 and line.find(\"/EM\") >= 0:\n",
    "                str1 = re.findall('(?<=>).*?(?=<)', line)[0] + \" - \" + str(cont)\n",
    "                categoria = re.findall('(?<=CATEG=\").*?(?=\")', line)[0]\n",
    "                #print(str1)\n",
    "                if str1 in dictF:\n",
    "                    dictF[str1][anotador] = categoria\n",
    "                else:\n",
    "                    dictF[str1] = ['','','']\n",
    "                    dictF[str1][anotador] = categoria\n",
    "            \n",
    "            elif line.find(\"EM-ID\") >= 0:\n",
    "                str1 = re.findall('(?<=>).*?(?=$)', line)[0]\n",
    "                str1 = str1.replace(\"\\n\", \"\")\n",
    "                categoria = re.findall('(?<=CATEG=\").*?(?=\")', line)[0]\n",
    "            \n",
    "            elif line.find(\"/EM\") >= 0:\n",
    "                str1 = str1 + \" \" + re.findall('(?<=^).*?(?=<)', line)[0] + \" - \" + str(cont)\n",
    "                str1 = str1.replace(\"\\n\", \"\")\n",
    "                #print(str1)\n",
    "                if str1 in dictF:\n",
    "                    dictF[str1][anotador] = categoria\n",
    "                else:\n",
    "                    dictF[str1] = ['','','']\n",
    "                    dictF[str1][anotador] = categoria\n",
    "                str1 = \"\"\n",
    "            \n",
    "            else:\n",
    "                str1 = str1 + \" \" + line\n",
    "                \n",
    "            cont += 1\n",
    "        \n",
    "    anotador += 1\n",
    "    \n",
    "#print(len(dictF))\n",
    "    \n",
    "kappa_pd = pd.DataFrame.from_dict(dictF,orient='index')\n",
    "kappa_pd.sample(10)"
   ]
  },
  {
   "cell_type": "code",
   "execution_count": 2,
   "metadata": {},
   "outputs": [
    {
     "data": {
      "text/plain": [
       "{'',\n",
       " 'baciasedimentar',\n",
       " 'contextogeologicodebacia',\n",
       " 'eon',\n",
       " 'era',\n",
       " 'idade',\n",
       " 'outro',\n",
       " 'periodo',\n",
       " 'sedimentarescarbonaticas',\n",
       " 'sedimentaresquimicas',\n",
       " 'sedimentaressiliciclasticas',\n",
       " 'unidadeestratigrafica'}"
      ]
     },
     "execution_count": 2,
     "metadata": {},
     "output_type": "execute_result"
    }
   ],
   "source": [
    "classes = set()\n",
    "\n",
    "for x in kappa_pd[0].unique():\n",
    "    classes.add(x.lower())\n",
    "    \n",
    "for x in kappa_pd[1].unique():\n",
    "    classes.add(x.lower())\n",
    "    \n",
    "for x in kappa_pd[2].unique():\n",
    "    classes.add(x.lower())\n",
    "\n",
    "classes"
   ]
  },
  {
   "cell_type": "markdown",
   "metadata": {},
   "source": [
    "### Montagem da Tabela para o Kappa"
   ]
  },
  {
   "cell_type": "code",
   "execution_count": 3,
   "metadata": {},
   "outputs": [
    {
     "data": {
      "text/plain": [
       "[[0, 0, 0, 0, 0, 3, 0, 0, 0, 0, 0, 0],\n",
       " [0, 0, 0, 0, 0, 0, 1, 0, 0, 0, 2, 0],\n",
       " [0, 1, 0, 0, 1, 0, 0, 0, 1, 0, 0, 0],\n",
       " [0, 2, 0, 0, 1, 0, 0, 0, 0, 0, 0, 0],\n",
       " [0, 2, 0, 0, 1, 0, 0, 0, 0, 0, 0, 0],\n",
       " [0, 0, 0, 0, 0, 3, 0, 0, 0, 0, 0, 0],\n",
       " [0, 1, 0, 0, 1, 0, 0, 0, 1, 0, 0, 0],\n",
       " [0, 2, 0, 0, 0, 0, 0, 0, 0, 0, 0, 1],\n",
       " [0, 2, 0, 0, 0, 1, 0, 0, 0, 0, 0, 0],\n",
       " [0, 1, 0, 0, 1, 0, 0, 0, 0, 0, 0, 1]]"
      ]
     },
     "execution_count": 3,
     "metadata": {},
     "output_type": "execute_result"
    }
   ],
   "source": [
    "w, h = len(classes), len(kappa_pd);\n",
    "kappa_table = [[0 for x in range(w)] for y in range(h)] \n",
    "\n",
    "row_id = 0\n",
    "for index, row in kappa_pd.iterrows():\n",
    "    class_id = 0\n",
    "    for clas in classes:\n",
    "        if row[0].lower() == clas:\n",
    "            kappa_table[row_id][class_id] += 1\n",
    "        if row[1].lower() == clas:\n",
    "            kappa_table[row_id][class_id] += 1\n",
    "        if row[2].lower() == clas:\n",
    "            kappa_table[row_id][class_id] += 1\n",
    "        class_id += 1\n",
    "    row_id += 1\n",
    "            \n",
    "kappa_table[:10]"
   ]
  },
  {
   "cell_type": "code",
   "execution_count": 4,
   "metadata": {},
   "outputs": [
    {
     "data": {
      "text/plain": [
       "0.16027657450019125"
      ]
     },
     "execution_count": 4,
     "metadata": {},
     "output_type": "execute_result"
    }
   ],
   "source": [
    "from statsmodels.stats.inter_rater import fleiss_kappa\n",
    "fleiss_kappa(kappa_table)"
   ]
  },
  {
   "cell_type": "markdown",
   "metadata": {
    "collapsed": true
   },
   "source": [
    "### Calculo Kappa de Identificação"
   ]
  },
  {
   "cell_type": "code",
   "execution_count": 5,
   "metadata": {},
   "outputs": [
    {
     "data": {
      "text/plain": [
       "[[0, 3],\n",
       " [0, 3],\n",
       " [0, 3],\n",
       " [0, 3],\n",
       " [0, 3],\n",
       " [0, 3],\n",
       " [0, 3],\n",
       " [0, 3],\n",
       " [0, 3],\n",
       " [0, 3]]"
      ]
     },
     "execution_count": 5,
     "metadata": {},
     "output_type": "execute_result"
    }
   ],
   "source": [
    "w, h = 2, len(kappa_pd);\n",
    "kappa_id_table = [[0 for x in range(w)] for y in range(h)]\n",
    "\n",
    "row_id = 0\n",
    "for index, row in kappa_pd.iterrows():\n",
    "    class_id = 0\n",
    "    for clas in classes:\n",
    "        if row[0].lower() == clas:\n",
    "            kappa_id_table[row_id][class_id] += 1\n",
    "        if row[1].lower() == clas:\n",
    "            kappa_id_table[row_id][class_id] += 1\n",
    "        if row[2].lower() == clas:\n",
    "            kappa_id_table[row_id][class_id] += 1\n",
    "        if class_id == 0:\n",
    "            class_id += 1\n",
    "    row_id += 1\n",
    "    \n",
    "kappa_id_table[:10]"
   ]
  },
  {
   "cell_type": "code",
   "execution_count": 6,
   "metadata": {},
   "outputs": [
    {
     "data": {
      "text/plain": [
       "-0.0016051364366164906"
      ]
     },
     "execution_count": 6,
     "metadata": {},
     "output_type": "execute_result"
    }
   ],
   "source": [
    "fleiss_kappa(kappa_id_table)"
   ]
  },
  {
   "cell_type": "markdown",
   "metadata": {},
   "source": [
    "### Calculo Kappa da Classificação"
   ]
  },
  {
   "cell_type": "code",
   "execution_count": 7,
   "metadata": {},
   "outputs": [
    {
     "name": "stdout",
     "output_type": "stream",
     "text": [
      "(416, 12)\n",
      "\n",
      "0sedimentaresquimicas\n",
      "(414, 11)\n",
      "0.160957112971\n",
      "\n",
      "1\n",
      "(72, 11)\n",
      "0.885573017835\n",
      "\n",
      "2periodo\n",
      "(415, 11)\n",
      "0.156381303762\n",
      "\n",
      "3idade\n",
      "(412, 11)\n",
      "0.158823710097\n",
      "\n",
      "4contextogeologicodebacia\n",
      "(133, 11)\n",
      "0.565895188533\n",
      "\n",
      "5baciasedimentar\n",
      "(382, 11)\n",
      "0.0324081131033\n",
      "\n",
      "6eon\n",
      "(401, 11)\n",
      "0.131557924432\n",
      "\n",
      "7sedimentaressiliciclasticas\n",
      "(402, 11)\n",
      "0.134224022809\n",
      "\n",
      "8unidadeestratigrafica\n",
      "(377, 11)\n",
      "0.085311535091\n",
      "\n",
      "9sedimentarescarbonaticas\n",
      "(399, 11)\n",
      "0.154415176997\n",
      "\n",
      "10era\n",
      "(399, 11)\n",
      "0.1493689721\n",
      "\n",
      "11outro\n",
      "(406, 11)\n",
      "0.163771810068\n"
     ]
    }
   ],
   "source": [
    "kappa_class_table = pd.DataFrame(data=kappa_table)\n",
    "\n",
    "print(kappa_class_table.shape)\n",
    "\n",
    "class_id = 0\n",
    "for clas in classes:\n",
    "    print(\"\")\n",
    "    print(str(class_id) + clas)\n",
    "    kappa_class_table = kappa_class_table[kappa_class_table[class_id]==0]\n",
    "    kappa_class_table.drop(kappa_class_table.columns[class_id],inplace=True,axis=1)\n",
    "    print(kappa_class_table.shape)\n",
    "    print(fleiss_kappa(kappa_class_table.as_matrix()))\n",
    "    kappa_class_table = pd.DataFrame(data=kappa_table)\n",
    "    class_id += 1"
   ]
  },
  {
   "cell_type": "code",
   "execution_count": null,
   "metadata": {
    "collapsed": true
   },
   "outputs": [],
   "source": []
  }
 ],
 "metadata": {
  "kernelspec": {
   "display_name": "Python 3",
   "language": "python",
   "name": "python3"
  },
  "language_info": {
   "codemirror_mode": {
    "name": "ipython",
    "version": 3
   },
   "file_extension": ".py",
   "mimetype": "text/x-python",
   "name": "python",
   "nbconvert_exporter": "python",
   "pygments_lexer": "ipython3",
   "version": "3.5.3"
  }
 },
 "nbformat": 4,
 "nbformat_minor": 2
}
