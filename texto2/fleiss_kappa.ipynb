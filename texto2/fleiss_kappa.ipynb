{
 "cells": [
  {
   "cell_type": "markdown",
   "metadata": {},
   "source": [
    "### Monta Tabela de Anotação"
   ]
  },
  {
   "cell_type": "code",
   "execution_count": 11,
   "metadata": {
    "collapsed": false,
    "deletable": true,
    "editable": true,
    "scrolled": true
   },
   "outputs": [
    {
     "data": {
      "text/html": [
       "<div>\n",
       "<table border=\"1\" class=\"dataframe\">\n",
       "  <thead>\n",
       "    <tr style=\"text-align: right;\">\n",
       "      <th></th>\n",
       "      <th>0</th>\n",
       "      <th>1</th>\n",
       "      <th>2</th>\n",
       "    </tr>\n",
       "  </thead>\n",
       "  <tbody>\n",
       "    <tr>\n",
       "      <th>substrato - 3954</th>\n",
       "      <td></td>\n",
       "      <td></td>\n",
       "      <td>CONTEXTOgeologicoDeBACIA</td>\n",
       "    </tr>\n",
       "    <tr>\n",
       "      <th>substrato quartzítico - 285</th>\n",
       "      <td>sedimentaresSILICICLASTICAS</td>\n",
       "      <td></td>\n",
       "      <td></td>\n",
       "    </tr>\n",
       "    <tr>\n",
       "      <th>tectônico - 152</th>\n",
       "      <td></td>\n",
       "      <td></td>\n",
       "      <td>CONTEXTOgeologicoDeBACIA</td>\n",
       "    </tr>\n",
       "    <tr>\n",
       "      <th>neoproterozoicas - 342</th>\n",
       "      <td>era</td>\n",
       "      <td></td>\n",
       "      <td>era</td>\n",
       "    </tr>\n",
       "    <tr>\n",
       "      <th>falhas direcionais - 176</th>\n",
       "      <td>outro</td>\n",
       "      <td></td>\n",
       "      <td>CONTEXTOgeologicoDeBACIA</td>\n",
       "    </tr>\n",
       "    <tr>\n",
       "      <th>empurrão - 2350</th>\n",
       "      <td></td>\n",
       "      <td>CONTEXTOgeologicoDeBACIA</td>\n",
       "      <td></td>\n",
       "    </tr>\n",
       "    <tr>\n",
       "      <th>empurrão - 2565</th>\n",
       "      <td></td>\n",
       "      <td></td>\n",
       "      <td>CONTEXTOgeologicoDeBACIA</td>\n",
       "    </tr>\n",
       "    <tr>\n",
       "      <th>sedimentos glaciogênicos - 915</th>\n",
       "      <td></td>\n",
       "      <td></td>\n",
       "      <td>CONTEXTOgeologicoDeBACIA</td>\n",
       "    </tr>\n",
       "    <tr>\n",
       "      <th>dobras - 3588</th>\n",
       "      <td></td>\n",
       "      <td></td>\n",
       "      <td>CONTEXTOgeologicoDeBACIA</td>\n",
       "    </tr>\n",
       "    <tr>\n",
       "      <th>deformação - 560</th>\n",
       "      <td></td>\n",
       "      <td></td>\n",
       "      <td>CONTEXTOgeologicoDeBACIA</td>\n",
       "    </tr>\n",
       "  </tbody>\n",
       "</table>\n",
       "</div>"
      ],
      "text/plain": [
       "                                                          0  \\\n",
       "substrato - 3954                                              \n",
       "substrato quartzítico - 285     sedimentaresSILICICLASTICAS   \n",
       "tectônico - 152                                               \n",
       "neoproterozoicas - 342                                  era   \n",
       "falhas direcionais - 176                              outro   \n",
       "empurrão - 2350                                               \n",
       "empurrão - 2565                                               \n",
       "sedimentos glaciogênicos - 915                                \n",
       "dobras - 3588                                                 \n",
       "deformação - 560                                              \n",
       "\n",
       "                                                       1  \\\n",
       "substrato - 3954                                           \n",
       "substrato quartzítico - 285                                \n",
       "tectônico - 152                                            \n",
       "neoproterozoicas - 342                                     \n",
       "falhas direcionais - 176                                   \n",
       "empurrão - 2350                 CONTEXTOgeologicoDeBACIA   \n",
       "empurrão - 2565                                            \n",
       "sedimentos glaciogênicos - 915                             \n",
       "dobras - 3588                                              \n",
       "deformação - 560                                           \n",
       "\n",
       "                                                       2  \n",
       "substrato - 3954                CONTEXTOgeologicoDeBACIA  \n",
       "substrato quartzítico - 285                               \n",
       "tectônico - 152                 CONTEXTOgeologicoDeBACIA  \n",
       "neoproterozoicas - 342                               era  \n",
       "falhas direcionais - 176        CONTEXTOgeologicoDeBACIA  \n",
       "empurrão - 2350                                           \n",
       "empurrão - 2565                 CONTEXTOgeologicoDeBACIA  \n",
       "sedimentos glaciogênicos - 915  CONTEXTOgeologicoDeBACIA  \n",
       "dobras - 3588                   CONTEXTOgeologicoDeBACIA  \n",
       "deformação - 560                CONTEXTOgeologicoDeBACIA  "
      ]
     },
     "execution_count": 11,
     "metadata": {},
     "output_type": "execute_result"
    }
   ],
   "source": [
    "import collections\n",
    "import re\n",
    "import pandas as pd\n",
    "\n",
    "dictF = collections.OrderedDict()\n",
    "anotador = 0\n",
    "cont = 1\n",
    "str1 = \"\"\n",
    "\n",
    "for filename in ['Clear_07_3_ISO_Andressa_Bressane.xml','Clear_07_3_ISO_Eric_Eltz.xml', 'Clear_07_3_ISO_Keli_Schell.xml' ]:\n",
    "    \n",
    "    with open(filename,'r') as file:\n",
    "        cont = 1\n",
    "        for line in file:\n",
    "\n",
    "            if line.find(\"EM-ID\") >= 0 and line.find(\"/EM\") >= 0:\n",
    "                str1 = re.findall('(?<=>).*?(?=<)', line)[0] + \" - \" + str(cont)\n",
    "                categoria = re.findall('(?<=CATEG=\").*?(?=\")', line)[0]\n",
    "                #print(str1)\n",
    "                if str1 in dictF:\n",
    "                    dictF[str1][anotador] = categoria\n",
    "                else:\n",
    "                    dictF[str1] = ['','','']\n",
    "                    dictF[str1][anotador] = categoria\n",
    "            \n",
    "            elif line.find(\"EM-ID\") >= 0:\n",
    "                str1 = re.findall('(?<=>).*?(?=$)', line)[0]\n",
    "                str1 = str1.replace(\"\\n\", \"\")\n",
    "                categoria = re.findall('(?<=CATEG=\").*?(?=\")', line)[0]\n",
    "            \n",
    "            elif line.find(\"/EM\") >= 0:\n",
    "                str1 = str1 + \" \" + re.findall('(?<=^).*?(?=<)', line)[0] + \" - \" + str(cont)\n",
    "                str1 = str1.replace(\"\\n\", \"\")\n",
    "                #print(str1)\n",
    "                if str1 in dictF:\n",
    "                    dictF[str1][anotador] = categoria\n",
    "                else:\n",
    "                    dictF[str1] = ['','','']\n",
    "                    dictF[str1][anotador] = categoria\n",
    "                str1 = \"\"\n",
    "            \n",
    "            else:\n",
    "                str1 = str1 + \" \" + line\n",
    "                \n",
    "            cont += 1\n",
    "        \n",
    "    anotador += 1\n",
    "    \n",
    "#print(len(dictF))\n",
    "    \n",
    "kappa_pd = pd.DataFrame.from_dict(dictF,orient='index')\n",
    "kappa_pd.sample(10)"
   ]
  },
  {
   "cell_type": "code",
   "execution_count": 5,
   "metadata": {
    "collapsed": false,
    "deletable": true,
    "editable": true
   },
   "outputs": [
    {
     "data": {
      "text/plain": [
       "{'',\n",
       " 'baciasedimentar',\n",
       " 'contextogeologicodebacia',\n",
       " 'eon',\n",
       " 'era',\n",
       " 'idade',\n",
       " 'outro',\n",
       " 'periodo',\n",
       " 'sedimentarescarbonaticas',\n",
       " 'sedimentaresquimicas',\n",
       " 'sedimentaressiliciclasticas',\n",
       " 'unidadeestratigrafica'}"
      ]
     },
     "execution_count": 5,
     "metadata": {},
     "output_type": "execute_result"
    }
   ],
   "source": [
    "classes = set()\n",
    "\n",
    "for x in kappa_pd[0].unique():\n",
    "    classes.add(x.lower())\n",
    "    \n",
    "for x in kappa_pd[1].unique():\n",
    "    classes.add(x.lower())\n",
    "    \n",
    "for x in kappa_pd[2].unique():\n",
    "    classes.add(x.lower())\n",
    "\n",
    "classes"
   ]
  },
  {
   "cell_type": "markdown",
   "metadata": {},
   "source": [
    "### Montagem da Tabela para o Kappa"
   ]
  },
  {
   "cell_type": "code",
   "execution_count": 6,
   "metadata": {
    "collapsed": false,
    "deletable": true,
    "editable": true
   },
   "outputs": [
    {
     "data": {
      "text/plain": [
       "[[0, 0, 0, 0, 0, 0, 0, 0, 0, 0, 0, 3],\n",
       " [0, 0, 2, 1, 0, 0, 0, 0, 0, 0, 0, 0],\n",
       " [1, 0, 0, 0, 0, 1, 1, 0, 0, 0, 0, 0],\n",
       " [2, 0, 0, 0, 0, 1, 0, 0, 0, 0, 0, 0],\n",
       " [2, 0, 0, 0, 0, 1, 0, 0, 0, 0, 0, 0],\n",
       " [0, 0, 0, 0, 0, 0, 0, 0, 0, 0, 0, 3],\n",
       " [1, 0, 0, 0, 0, 1, 1, 0, 0, 0, 0, 0],\n",
       " [2, 0, 0, 0, 0, 0, 0, 1, 0, 0, 0, 0],\n",
       " [2, 0, 0, 0, 0, 0, 0, 0, 0, 0, 0, 1],\n",
       " [1, 0, 0, 0, 0, 1, 0, 1, 0, 0, 0, 0]]"
      ]
     },
     "execution_count": 6,
     "metadata": {},
     "output_type": "execute_result"
    }
   ],
   "source": [
    "w, h = len(classes), len(kappa_pd);\n",
    "kappa_table = [[0 for x in range(w)] for y in range(h)] \n",
    "\n",
    "row_id = 0\n",
    "for index, row in kappa_pd.iterrows():\n",
    "    class_id = 0\n",
    "    for clas in classes:\n",
    "        if row[0].lower() == clas:\n",
    "            kappa_table[row_id][class_id] += 1\n",
    "        if row[1].lower() == clas:\n",
    "            kappa_table[row_id][class_id] += 1\n",
    "        if row[2].lower() == clas:\n",
    "            kappa_table[row_id][class_id] += 1\n",
    "        class_id += 1\n",
    "    row_id += 1\n",
    "            \n",
    "kappa_table[:10]"
   ]
  },
  {
   "cell_type": "code",
   "execution_count": 7,
   "metadata": {
    "collapsed": false,
    "deletable": true,
    "editable": true
   },
   "outputs": [
    {
     "data": {
      "text/plain": [
       "0.16027657450019131"
      ]
     },
     "execution_count": 7,
     "metadata": {},
     "output_type": "execute_result"
    }
   ],
   "source": [
    "from statsmodels.stats.inter_rater import fleiss_kappa\n",
    "fleiss_kappa(kappa_table)"
   ]
  },
  {
   "cell_type": "markdown",
   "metadata": {
    "collapsed": true,
    "deletable": true,
    "editable": true
   },
   "source": [
    "### Calculo Kappa de Identificação"
   ]
  },
  {
   "cell_type": "code",
   "execution_count": 14,
   "metadata": {
    "collapsed": false
   },
   "outputs": [
    {
     "data": {
      "text/plain": [
       "[[0, 3],\n",
       " [0, 3],\n",
       " [1, 2],\n",
       " [2, 1],\n",
       " [2, 1],\n",
       " [0, 3],\n",
       " [1, 2],\n",
       " [2, 1],\n",
       " [2, 1],\n",
       " [1, 2]]"
      ]
     },
     "execution_count": 14,
     "metadata": {},
     "output_type": "execute_result"
    }
   ],
   "source": [
    "w, h = 2, len(kappa_pd);\n",
    "kappa_id_table = [[0 for x in range(w)] for y in range(h)]\n",
    "\n",
    "row_id = 0\n",
    "for index, row in kappa_pd.iterrows():\n",
    "    class_id = 0\n",
    "    for clas in classes:\n",
    "        if row[0].lower() == clas:\n",
    "            kappa_id_table[row_id][class_id] += 1\n",
    "        if row[1].lower() == clas:\n",
    "            kappa_id_table[row_id][class_id] += 1\n",
    "        if row[2].lower() == clas:\n",
    "            kappa_id_table[row_id][class_id] += 1\n",
    "        if class_id == 0:\n",
    "            class_id += 1\n",
    "    row_id += 1\n",
    "    \n",
    "kappa_id_table[:10]"
   ]
  },
  {
   "cell_type": "code",
   "execution_count": 15,
   "metadata": {
    "collapsed": false
   },
   "outputs": [
    {
     "data": {
      "text/plain": [
       "-0.10478857001688172"
      ]
     },
     "execution_count": 15,
     "metadata": {},
     "output_type": "execute_result"
    }
   ],
   "source": [
    "fleiss_kappa(kappa_id_table)"
   ]
  },
  {
   "cell_type": "markdown",
   "metadata": {},
   "source": [
    "### Calculo Kappa da Classificação"
   ]
  },
  {
   "cell_type": "code",
   "execution_count": 16,
   "metadata": {
    "collapsed": false
   },
   "outputs": [
    {
     "data": {
      "text/plain": [
       "(72, 11)"
      ]
     },
     "execution_count": 16,
     "metadata": {},
     "output_type": "execute_result"
    }
   ],
   "source": [
    "kappa_class_table = pd.DataFrame(data=kappa_table)\n",
    "kappa_class_table = kappa_class_table[kappa_class_table[0]==0]\n",
    "kappa_class_table.drop(kappa_class_table.columns[0],inplace=True,axis=1)\n",
    "kappa_class_table.shape"
   ]
  },
  {
   "cell_type": "code",
   "execution_count": 17,
   "metadata": {
    "collapsed": false
   },
   "outputs": [
    {
     "data": {
      "text/plain": [
       "0.8855730178350697"
      ]
     },
     "execution_count": 17,
     "metadata": {},
     "output_type": "execute_result"
    }
   ],
   "source": [
    "fleiss_kappa(kappa_class_table.as_matrix())"
   ]
  }
 ],
 "metadata": {
  "kernelspec": {
   "display_name": "Python 3",
   "language": "python",
   "name": "python3"
  },
  "language_info": {
   "codemirror_mode": {
    "name": "ipython",
    "version": 3
   },
   "file_extension": ".py",
   "mimetype": "text/x-python",
   "name": "python",
   "nbconvert_exporter": "python",
   "pygments_lexer": "ipython3",
   "version": "3.5.2"
  }
 },
 "nbformat": 4,
 "nbformat_minor": 2
}
